{
 "cells": [
  {
   "cell_type": "markdown",
   "metadata": {},
   "source": [
    "# <span style=\"color:#4682B4\">  Data Cleaning </span>"
   ]
  },
  {
   "cell_type": "markdown",
   "metadata": {},
   "source": [
    " "
   ]
  },
  {
   "cell_type": "markdown",
   "metadata": {},
   "source": [
    "### <span style=\"color:#00008B\"> Load Libraries </span>"
   ]
  },
  {
   "cell_type": "code",
   "execution_count": 27,
   "metadata": {},
   "outputs": [],
   "source": [
    "import pandas as pd\n",
    "import numpy as np\n",
    "\n",
    "#importing liabraries for graphical representation\n",
    "import matplotlib.pyplot as plt\n",
    "import seaborn as sns\n",
    "sns.set(style=\"darkgrid\")\n",
    "%matplotlib inline\n"
   ]
  },
  {
   "cell_type": "code",
   "execution_count": 119,
   "metadata": {},
   "outputs": [
    {
     "data": {
      "text/html": [
       "<style type=\"text/css\">\n",
       "table.dataframe td, table.dataframe th {\n",
       "    border: 1px  black solid !important;\n",
       "  color: black !important;\n",
       "}\n",
       "</style>\n"
      ],
      "text/plain": [
       "<IPython.core.display.HTML object>"
      ]
     },
     "metadata": {},
     "output_type": "display_data"
    }
   ],
   "source": [
    "%%HTML\n",
    "<style type=\"text/css\">\n",
    "table.dataframe td, table.dataframe th {\n",
    "    border: 1px  black solid !important;\n",
    "  color: black !important;\n",
    "}\n",
    "</style>"
   ]
  },
  {
   "cell_type": "markdown",
   "metadata": {},
   "source": [
    " "
   ]
  },
  {
   "cell_type": "markdown",
   "metadata": {},
   "source": [
    "## <span style=\"color:#00008B\"> Data Understanding </span>\n",
    "\n"
   ]
  },
  {
   "cell_type": "markdown",
   "metadata": {},
   "source": [
    "- user_agent: device, os system, etc. used by customer\n",
    "- referred_to_url: site for touchpoint\n",
    "- created_at: reference date\n",
    "- visitor_source: channel source\n",
    "- conv_#_life: # stage of funnel (#1 is PRIMARY RESPONSE LABEL)\n",
    "- conv_#_life_date: date of conversion\n",
    "- exit_survey_source_category: exit survey response for source\n",
    "- exit_survey_submitted_product: exit survey product type\n",
    "- exit_survey_source: exit source detailed response from source_category\n",
    "- product_visited: product associated with referral site"
   ]
  },
  {
   "cell_type": "markdown",
   "metadata": {},
   "source": [
    "    Load the data into a dataframe"
   ]
  },
  {
   "cell_type": "code",
   "execution_count": 6,
   "metadata": {},
   "outputs": [],
   "source": [
    "data_file = '../data/data_mta_mta_data_000000000001.csv'\n",
    "df = pd.read_csv(data_file)"
   ]
  },
  {
   "cell_type": "code",
   "execution_count": 8,
   "metadata": {},
   "outputs": [
    {
     "name": "stdout",
     "output_type": "stream",
     "text": [
      "Data Shape\n",
      "----------\n",
      "Number of columns: 15\n",
      "Number of observations: 2661982\n"
     ]
    },
    {
     "data": {
      "text/html": [
       "<div>\n",
       "<style scoped>\n",
       "    .dataframe tbody tr th:only-of-type {\n",
       "        vertical-align: middle;\n",
       "    }\n",
       "\n",
       "    .dataframe tbody tr th {\n",
       "        vertical-align: top;\n",
       "    }\n",
       "\n",
       "    .dataframe thead th {\n",
       "        text-align: right;\n",
       "    }\n",
       "</style>\n",
       "<table border=\"1\" class=\"dataframe\">\n",
       "  <thead>\n",
       "    <tr style=\"text-align: right;\">\n",
       "      <th></th>\n",
       "      <th>user_analytics_id</th>\n",
       "      <th>user_agent</th>\n",
       "      <th>referred_to_url</th>\n",
       "      <th>created_at</th>\n",
       "      <th>visitor_source</th>\n",
       "      <th>conv_1_life</th>\n",
       "      <th>conv_1_life_date</th>\n",
       "      <th>conv_2_life</th>\n",
       "      <th>conv_2_life_date</th>\n",
       "      <th>conv_3_life</th>\n",
       "      <th>conv_3_life_date</th>\n",
       "      <th>exit_survey_source_category</th>\n",
       "      <th>exit_survey_submitted_product</th>\n",
       "      <th>exit_survey_source</th>\n",
       "      <th>product_visited</th>\n",
       "    </tr>\n",
       "  </thead>\n",
       "  <tbody>\n",
       "    <tr>\n",
       "      <th>0</th>\n",
       "      <td>170bc53eb46b4e59a2f321bda584e9b8</td>\n",
       "      <td>Mozilla/5.0 (Macintosh; Intel Mac OS X 10_12_6...</td>\n",
       "      <td>/taxes/guide-to-gift-tax/</td>\n",
       "      <td>2020-10-08 13:41:43 UTC</td>\n",
       "      <td>Organic - SEO</td>\n",
       "      <td>NaN</td>\n",
       "      <td>NaN</td>\n",
       "      <td>NaN</td>\n",
       "      <td>NaN</td>\n",
       "      <td>NaN</td>\n",
       "      <td>NaN</td>\n",
       "      <td>NaN</td>\n",
       "      <td>NaN</td>\n",
       "      <td>NaN</td>\n",
       "      <td>other</td>\n",
       "    </tr>\n",
       "    <tr>\n",
       "      <th>1</th>\n",
       "      <td>bfdbb9389e6b4a0791b160de3bf38414</td>\n",
       "      <td>Mozilla/5.0 (Linux; Android 10; M2006C3MG) App...</td>\n",
       "      <td>/blog/money-themed-baby-names/</td>\n",
       "      <td>2020-10-08 10:36:07 UTC</td>\n",
       "      <td>Organic - SEO</td>\n",
       "      <td>NaN</td>\n",
       "      <td>NaN</td>\n",
       "      <td>NaN</td>\n",
       "      <td>NaN</td>\n",
       "      <td>NaN</td>\n",
       "      <td>NaN</td>\n",
       "      <td>NaN</td>\n",
       "      <td>NaN</td>\n",
       "      <td>NaN</td>\n",
       "      <td>other</td>\n",
       "    </tr>\n",
       "    <tr>\n",
       "      <th>2</th>\n",
       "      <td>9a3d7aa449b548b88b724ee74cdf4dfa</td>\n",
       "      <td>Mozilla/5.0 (Linux; Android 8.1.0; SM-T580) Ap...</td>\n",
       "      <td>/blog/state-by-state-guide-to-workers-compensa...</td>\n",
       "      <td>2020-10-08 11:03:46 UTC</td>\n",
       "      <td>Organic - SEO</td>\n",
       "      <td>NaN</td>\n",
       "      <td>NaN</td>\n",
       "      <td>NaN</td>\n",
       "      <td>NaN</td>\n",
       "      <td>NaN</td>\n",
       "      <td>NaN</td>\n",
       "      <td>NaN</td>\n",
       "      <td>NaN</td>\n",
       "      <td>NaN</td>\n",
       "      <td>other</td>\n",
       "    </tr>\n",
       "    <tr>\n",
       "      <th>3</th>\n",
       "      <td>d7a57b15d3f2426197b7e802e445ab09</td>\n",
       "      <td>Mozilla/5.0 (Linux; Android 10; SM-G973U) Appl...</td>\n",
       "      <td>/disability-insurance/what-to-know-about-disab...</td>\n",
       "      <td>2020-10-08 11:50:48 UTC</td>\n",
       "      <td>Organic - SEO</td>\n",
       "      <td>NaN</td>\n",
       "      <td>NaN</td>\n",
       "      <td>NaN</td>\n",
       "      <td>NaN</td>\n",
       "      <td>NaN</td>\n",
       "      <td>NaN</td>\n",
       "      <td>NaN</td>\n",
       "      <td>NaN</td>\n",
       "      <td>NaN</td>\n",
       "      <td>other</td>\n",
       "    </tr>\n",
       "    <tr>\n",
       "      <th>4</th>\n",
       "      <td>03bc72cf09ab4a02940b153ac9541458</td>\n",
       "      <td>Mozilla/5.0 (compatible; parse.ly scraper/0.16...</td>\n",
       "      <td>/policy-center/secure-files</td>\n",
       "      <td>2020-10-08 17:32:21 UTC</td>\n",
       "      <td>Organic - SEO</td>\n",
       "      <td>NaN</td>\n",
       "      <td>NaN</td>\n",
       "      <td>NaN</td>\n",
       "      <td>NaN</td>\n",
       "      <td>NaN</td>\n",
       "      <td>NaN</td>\n",
       "      <td>NaN</td>\n",
       "      <td>NaN</td>\n",
       "      <td>NaN</td>\n",
       "      <td>other</td>\n",
       "    </tr>\n",
       "  </tbody>\n",
       "</table>\n",
       "</div>"
      ],
      "text/plain": [
       "                  user_analytics_id  \\\n",
       "0  170bc53eb46b4e59a2f321bda584e9b8   \n",
       "1  bfdbb9389e6b4a0791b160de3bf38414   \n",
       "2  9a3d7aa449b548b88b724ee74cdf4dfa   \n",
       "3  d7a57b15d3f2426197b7e802e445ab09   \n",
       "4  03bc72cf09ab4a02940b153ac9541458   \n",
       "\n",
       "                                          user_agent  \\\n",
       "0  Mozilla/5.0 (Macintosh; Intel Mac OS X 10_12_6...   \n",
       "1  Mozilla/5.0 (Linux; Android 10; M2006C3MG) App...   \n",
       "2  Mozilla/5.0 (Linux; Android 8.1.0; SM-T580) Ap...   \n",
       "3  Mozilla/5.0 (Linux; Android 10; SM-G973U) Appl...   \n",
       "4  Mozilla/5.0 (compatible; parse.ly scraper/0.16...   \n",
       "\n",
       "                                     referred_to_url               created_at  \\\n",
       "0                          /taxes/guide-to-gift-tax/  2020-10-08 13:41:43 UTC   \n",
       "1                     /blog/money-themed-baby-names/  2020-10-08 10:36:07 UTC   \n",
       "2  /blog/state-by-state-guide-to-workers-compensa...  2020-10-08 11:03:46 UTC   \n",
       "3  /disability-insurance/what-to-know-about-disab...  2020-10-08 11:50:48 UTC   \n",
       "4                        /policy-center/secure-files  2020-10-08 17:32:21 UTC   \n",
       "\n",
       "  visitor_source  conv_1_life conv_1_life_date  conv_2_life conv_2_life_date  \\\n",
       "0  Organic - SEO          NaN              NaN          NaN              NaN   \n",
       "1  Organic - SEO          NaN              NaN          NaN              NaN   \n",
       "2  Organic - SEO          NaN              NaN          NaN              NaN   \n",
       "3  Organic - SEO          NaN              NaN          NaN              NaN   \n",
       "4  Organic - SEO          NaN              NaN          NaN              NaN   \n",
       "\n",
       "   conv_3_life conv_3_life_date exit_survey_source_category  \\\n",
       "0          NaN              NaN                         NaN   \n",
       "1          NaN              NaN                         NaN   \n",
       "2          NaN              NaN                         NaN   \n",
       "3          NaN              NaN                         NaN   \n",
       "4          NaN              NaN                         NaN   \n",
       "\n",
       "  exit_survey_submitted_product exit_survey_source product_visited  \n",
       "0                           NaN                NaN           other  \n",
       "1                           NaN                NaN           other  \n",
       "2                           NaN                NaN           other  \n",
       "3                           NaN                NaN           other  \n",
       "4                           NaN                NaN           other  "
      ]
     },
     "execution_count": 8,
     "metadata": {},
     "output_type": "execute_result"
    }
   ],
   "source": [
    "#number of observations and features\n",
    "\n",
    "print(\"Data Shape\")\n",
    "print(\"----------\")\n",
    "print(\"Number of columns:\", df.shape[1])\n",
    "print(\"Number of observations:\", df.shape[0])\n",
    "\n",
    "df.head(5)"
   ]
  },
  {
   "cell_type": "markdown",
   "metadata": {},
   "source": [
    " "
   ]
  },
  {
   "cell_type": "markdown",
   "metadata": {},
   "source": [
    " "
   ]
  },
  {
   "cell_type": "markdown",
   "metadata": {},
   "source": [
    "## <span style=\"color:#00008B\"> Data Preprocessing & Analysis </span>\n"
   ]
  },
  {
   "cell_type": "markdown",
   "metadata": {},
   "source": [
    "## <span style=\"color:#4682B4\">  Data Analysis </span>\n",
    "\n",
    "We have to make sure the data is suitable and well prepared for any analysis or model we want to use it for."
   ]
  },
  {
   "cell_type": "markdown",
   "metadata": {},
   "source": [
    " "
   ]
  },
  {
   "cell_type": "markdown",
   "metadata": {},
   "source": [
    "- **Print a concise summary of a DataFrame**\n",
    "      \n",
    "    This method prints information about a DataFrame including the index dtype and column dtypes, non-null values and memory usage."
   ]
  },
  {
   "cell_type": "code",
   "execution_count": 9,
   "metadata": {},
   "outputs": [
    {
     "name": "stdout",
     "output_type": "stream",
     "text": [
      "There are 3 numeric features and 12 categorical features \n",
      " \n",
      "\n",
      "<class 'pandas.core.frame.DataFrame'>\n",
      "RangeIndex: 2661982 entries, 0 to 2661981\n",
      "Data columns (total 15 columns):\n",
      " #   Column                         Dtype  \n",
      "---  ------                         -----  \n",
      " 0   user_analytics_id              object \n",
      " 1   user_agent                     object \n",
      " 2   referred_to_url                object \n",
      " 3   created_at                     object \n",
      " 4   visitor_source                 object \n",
      " 5   conv_1_life                    float64\n",
      " 6   conv_1_life_date               object \n",
      " 7   conv_2_life                    float64\n",
      " 8   conv_2_life_date               object \n",
      " 9   conv_3_life                    float64\n",
      " 10  conv_3_life_date               object \n",
      " 11  exit_survey_source_category    object \n",
      " 12  exit_survey_submitted_product  object \n",
      " 13  exit_survey_source             object \n",
      " 14  product_visited                object \n",
      "dtypes: float64(3), object(12)\n",
      "memory usage: 304.6+ MB\n"
     ]
    }
   ],
   "source": [
    "#Segregating the numeric and categorical variable names\n",
    "numeric_var_names = [key for key in dict(df.dtypes) if dict(df.dtypes)[key] in ['float64', 'int64', 'float32', 'int32']]\n",
    "catgorical_var_names = [key for key in dict(df.dtypes) if dict(df.dtypes)[key] in ['object']]\n",
    "print(\"There are %d numeric features and %d categorical features\" %(len(numeric_var_names),len(catgorical_var_names)), \"\\n \\n\")\n",
    "\n",
    "\n",
    "#checking for the data types and file size.\n",
    "df.info(verbose=True)"
   ]
  },
  {
   "cell_type": "markdown",
   "metadata": {},
   "source": [
    " "
   ]
  },
  {
   "cell_type": "markdown",
   "metadata": {},
   "source": [
    " "
   ]
  },
  {
   "cell_type": "markdown",
   "metadata": {},
   "source": [
    "### <span style=\"color:#4682B4\">  Unique Values </span>\n",
    "- **Check the unique values for each column**\n",
    "\n",
    "Find out the columns that has too few/ too much unique data. Inspect these columns to decide whether to remove them or not\n"
   ]
  },
  {
   "cell_type": "code",
   "execution_count": 10,
   "metadata": {},
   "outputs": [
    {
     "data": {
      "text/plain": [
       "created_at                       2465847\n",
       "user_analytics_id                2302821\n",
       "user_agent                        105949\n",
       "referred_to_url                    98947\n",
       "conv_1_life_date                   14299\n",
       "conv_2_life_date                   10867\n",
       "conv_3_life_date                    6634\n",
       "exit_survey_source                   349\n",
       "exit_survey_source_category           34\n",
       "visitor_source                        24\n",
       "exit_survey_submitted_product          5\n",
       "product_visited                        4\n",
       "conv_3_life                            2\n",
       "conv_2_life                            2\n",
       "conv_1_life                            2\n",
       "dtype: int64"
      ]
     },
     "execution_count": 10,
     "metadata": {},
     "output_type": "execute_result"
    }
   ],
   "source": [
    "unique_rate = df.apply(lambda x: len(pd.unique(x)),axis = 0).sort_values(ascending = False) #unique rate and sort\n",
    "unique_rate"
   ]
  },
  {
   "cell_type": "markdown",
   "metadata": {},
   "source": [
    " "
   ]
  },
  {
   "cell_type": "markdown",
   "metadata": {},
   "source": [
    "- **Inference**\n",
    "\n",
    "Let us take a look at unique values for some column and the type of values contained in _ and _\n"
   ]
  },
  {
   "cell_type": "code",
   "execution_count": 7,
   "metadata": {},
   "outputs": [
    {
     "name": "stdout",
     "output_type": "stream",
     "text": [
      "product_visited   :   ['other' 'life' 'home' 'auto'] \n",
      "\n",
      "exit_survey_submitted_product   :   [nan 'life' 'Home and Auto' 'renters' 'disability'] \n",
      "\n",
      "visitor_source   :   ['Organic - SEO' 'Email' 'Influencer' 'Partnerships' 'Earned Media'\n",
      " 'Direct' 'Paid Email' 'Paid Search - NB' 'Facebook' 'YouTube' 'Display'\n",
      " 'Connected TV/TV' 'Paid Search - B' 'Blog' 'Organic - Brand' 'Lead Gen'\n",
      " 'Referral' 'Gmail' 'Paid Social' 'Other' 'Native' 'Internal' 'Warm Lead'\n",
      " 'Social'] \n",
      "\n",
      "exit_survey_source_category   :   [nan 'google_or_other_search_engine' 'mailer' 'online_article' 'other'\n",
      " 'instagram' 'facebook' 'quora' 'email' 'pandora' 'podcast'\n",
      " 'friend_family_co-worker_told_me_about_it' 'my_financial_advisor'\n",
      " 'newsletters' 'tv_commercial' 'youtube' 'roku_apple_tv_etc'\n",
      " 'billboard_or_outdoor_advertisement' 'radio' 'linkedin' 'twitter'\n",
      " 'streeteasy' 'perkspot' 'gridwise' 'subway_ad' 'elevator_or_office_lobby'\n",
      " 'search_engine' 'nextdoor' 'apple_news' 'ad_on_a_website' 'ad_online'\n",
      " 'personal_referral' 'spotify' 'ad_print'] \n",
      "\n"
     ]
    }
   ],
   "source": [
    "def get_unique(unique_list,df):\n",
    "    for var in unique_list:\n",
    "        print(var,\"  :  \",df[var].unique(),\"\\n\")\n",
    "        \n",
    "unique_list = ['product_visited','exit_survey_submitted_product','visitor_source','exit_survey_source_category']\n",
    "get_unique(unique_list,df)"
   ]
  },
  {
   "cell_type": "markdown",
   "metadata": {},
   "source": [
    " "
   ]
  },
  {
   "cell_type": "markdown",
   "metadata": {},
   "source": [
    " "
   ]
  },
  {
   "cell_type": "markdown",
   "metadata": {},
   "source": [
    "----"
   ]
  },
  {
   "cell_type": "markdown",
   "metadata": {},
   "source": [
    "### <span style=\"color:#4682B4\">  Null Values </span>"
   ]
  },
  {
   "cell_type": "code",
   "execution_count": 8,
   "metadata": {},
   "outputs": [
    {
     "data": {
      "text/plain": [
       "['user_agent',\n",
       " 'referred_to_url',\n",
       " 'conv_1_life',\n",
       " 'conv_1_life_date',\n",
       " 'conv_2_life',\n",
       " 'conv_2_life_date',\n",
       " 'conv_3_life',\n",
       " 'conv_3_life_date',\n",
       " 'exit_survey_source_category',\n",
       " 'exit_survey_submitted_product',\n",
       " 'exit_survey_source']"
      ]
     },
     "execution_count": 8,
     "metadata": {},
     "output_type": "execute_result"
    }
   ],
   "source": [
    "#Columns with Null Values\n",
    "df.columns[df.isna().any()].tolist()"
   ]
  },
  {
   "cell_type": "code",
   "execution_count": 9,
   "metadata": {},
   "outputs": [
    {
     "data": {
      "text/plain": [
       "<matplotlib.axes._subplots.AxesSubplot at 0x7fd609db56d0>"
      ]
     },
     "execution_count": 9,
     "metadata": {},
     "output_type": "execute_result"
    },
    {
     "data": {
      "image/png": "[encoded data removed]",
      "text/plain": [
       "<Figure size 648x288 with 2 Axes>"
      ]
     },
     "metadata": {
      "needs_background": "light"
     },
     "output_type": "display_data"
    }
   ],
   "source": [
    "import missingno as msno \n",
    "msno.matrix(df, figsize=(9, 4),  fontsize=10) "
   ]
  },
  {
   "cell_type": "markdown",
   "metadata": {},
   "source": [
    " "
   ]
  },
  {
   "cell_type": "markdown",
   "metadata": {},
   "source": [
    " "
   ]
  },
  {
   "cell_type": "markdown",
   "metadata": {},
   "source": [
    " "
   ]
  },
  {
   "cell_type": "markdown",
   "metadata": {},
   "source": [
    "-----"
   ]
  },
  {
   "cell_type": "markdown",
   "metadata": {},
   "source": [
    "### <span style=\"color:#4682B4\">  Fill Null Values </span>"
   ]
  },
  {
   "cell_type": "markdown",
   "metadata": {},
   "source": [
    "#### <span style=\"color:black\">  conversion </span>\n",
    "\n",
    "Conversion is a binary columns: \n",
    "- if the user has converted = 1\n",
    "- if the user has not converted = 1"
   ]
  },
  {
   "cell_type": "code",
   "execution_count": 11,
   "metadata": {},
   "outputs": [],
   "source": [
    "def replace_nan(df, col_list, fill_val):\n",
    "    for var in col_list:\n",
    "        df[var].fillna(fill_val, inplace=True)\n",
    "        \n",
    "col_list = ['conv_1_life','conv_2_life','conv_3_life']\n",
    "\n",
    "\n",
    "\n",
    "replace_nan(df, col_list, fill_val = 0)"
   ]
  },
  {
   "cell_type": "markdown",
   "metadata": {},
   "source": [
    " "
   ]
  },
  {
   "cell_type": "markdown",
   "metadata": {},
   "source": [
    " "
   ]
  },
  {
   "cell_type": "markdown",
   "metadata": {},
   "source": [
    "#### <span style=\"color:black\">  referred_to_url </span>"
   ]
  },
  {
   "cell_type": "code",
   "execution_count": 12,
   "metadata": {},
   "outputs": [
    {
     "data": {
      "text/html": [
       "<div>\n",
       "<style scoped>\n",
       "    .dataframe tbody tr th:only-of-type {\n",
       "        vertical-align: middle;\n",
       "    }\n",
       "\n",
       "    .dataframe tbody tr th {\n",
       "        vertical-align: top;\n",
       "    }\n",
       "\n",
       "    .dataframe thead th {\n",
       "        text-align: right;\n",
       "    }\n",
       "</style>\n",
       "<table border=\"1\" class=\"dataframe\">\n",
       "  <thead>\n",
       "    <tr style=\"text-align: right;\">\n",
       "      <th></th>\n",
       "      <th>user_analytics_id</th>\n",
       "      <th>user_agent</th>\n",
       "      <th>referred_to_url</th>\n",
       "      <th>created_at</th>\n",
       "      <th>visitor_source</th>\n",
       "      <th>conv_1_life</th>\n",
       "      <th>conv_1_life_date</th>\n",
       "      <th>conv_2_life</th>\n",
       "      <th>conv_2_life_date</th>\n",
       "      <th>conv_3_life</th>\n",
       "      <th>conv_3_life_date</th>\n",
       "      <th>exit_survey_source_category</th>\n",
       "      <th>exit_survey_submitted_product</th>\n",
       "      <th>exit_survey_source</th>\n",
       "      <th>product_visited</th>\n",
       "    </tr>\n",
       "  </thead>\n",
       "  <tbody>\n",
       "    <tr>\n",
       "      <th>0</th>\n",
       "      <td>170bc53eb46b4e59a2f321bda584e9b8</td>\n",
       "      <td>Mozilla/5.0 (Macintosh; Intel Mac OS X 10_12_6...</td>\n",
       "      <td>/taxes/guide-to-gift-tax/</td>\n",
       "      <td>2020-10-08 13:41:43 UTC</td>\n",
       "      <td>Organic - SEO</td>\n",
       "      <td>0.0</td>\n",
       "      <td>NaN</td>\n",
       "      <td>0.0</td>\n",
       "      <td>NaN</td>\n",
       "      <td>0.0</td>\n",
       "      <td>NaN</td>\n",
       "      <td>NaN</td>\n",
       "      <td>NaN</td>\n",
       "      <td>NaN</td>\n",
       "      <td>other</td>\n",
       "    </tr>\n",
       "  </tbody>\n",
       "</table>\n",
       "</div>"
      ],
      "text/plain": [
       "                  user_analytics_id  \\\n",
       "0  170bc53eb46b4e59a2f321bda584e9b8   \n",
       "\n",
       "                                          user_agent  \\\n",
       "0  Mozilla/5.0 (Macintosh; Intel Mac OS X 10_12_6...   \n",
       "\n",
       "             referred_to_url               created_at visitor_source  \\\n",
       "0  /taxes/guide-to-gift-tax/  2020-10-08 13:41:43 UTC  Organic - SEO   \n",
       "\n",
       "   conv_1_life conv_1_life_date  conv_2_life conv_2_life_date  conv_3_life  \\\n",
       "0          0.0              NaN          0.0              NaN          0.0   \n",
       "\n",
       "  conv_3_life_date exit_survey_source_category exit_survey_submitted_product  \\\n",
       "0              NaN                         NaN                           NaN   \n",
       "\n",
       "  exit_survey_source product_visited  \n",
       "0                NaN           other  "
      ]
     },
     "execution_count": 12,
     "metadata": {},
     "output_type": "execute_result"
    }
   ],
   "source": [
    "df.head(1)"
   ]
  },
  {
   "cell_type": "markdown",
   "metadata": {},
   "source": [
    "    Identify 'visitor_source' for which the referred to URL is null "
   ]
  },
  {
   "cell_type": "code",
   "execution_count": 13,
   "metadata": {},
   "outputs": [
    {
     "data": {
      "text/plain": [
       "array(['Direct', 'Warm Lead', 'Partnerships', 'Earned Media', 'Facebook',\n",
       "       'Email', 'Blog', 'Organic - SEO'], dtype=object)"
      ]
     },
     "execution_count": 13,
     "metadata": {},
     "output_type": "execute_result"
    }
   ],
   "source": [
    "df[df['referred_to_url'].isnull()]['visitor_source'].unique()"
   ]
  },
  {
   "cell_type": "markdown",
   "metadata": {},
   "source": [
    "    URL is missing for many visitor_sources."
   ]
  },
  {
   "cell_type": "code",
   "execution_count": 14,
   "metadata": {},
   "outputs": [
    {
     "data": {
      "text/plain": [
       "array([nan, '/'], dtype=object)"
      ]
     },
     "execution_count": 14,
     "metadata": {},
     "output_type": "execute_result"
    }
   ],
   "source": [
    "df[df['visitor_source'] == 'Direct']['referred_to_url'].unique()"
   ]
  },
  {
   "cell_type": "code",
   "execution_count": 15,
   "metadata": {},
   "outputs": [
    {
     "data": {
      "text/plain": [
       "array([nan], dtype=object)"
      ]
     },
     "execution_count": 15,
     "metadata": {},
     "output_type": "execute_result"
    }
   ],
   "source": [
    "df[df['visitor_source'] == 'Warm Lead']['referred_to_url'].unique()"
   ]
  },
  {
   "cell_type": "markdown",
   "metadata": {},
   "source": [
    " "
   ]
  },
  {
   "cell_type": "markdown",
   "metadata": {},
   "source": [
    "Inference: For a user with visitor source 'Direct', we can notice that referred to URL is '/' "
   ]
  },
  {
   "cell_type": "markdown",
   "metadata": {},
   "source": [
    "Fill nan values in referred_to_url as following\n",
    "1. referred_to_url == Direct when visitor_source == '/'\n",
    "2. referred_to_url == unknown for any other nan/missing values"
   ]
  },
  {
   "cell_type": "code",
   "execution_count": 16,
   "metadata": {},
   "outputs": [],
   "source": [
    "df.loc[df.visitor_source == 'Direct','referred_to_url'] = '/'"
   ]
  },
  {
   "cell_type": "code",
   "execution_count": 17,
   "metadata": {},
   "outputs": [],
   "source": [
    "df['referred_to_url'].fillna('unknown', inplace=True)"
   ]
  },
  {
   "cell_type": "markdown",
   "metadata": {},
   "source": [
    " "
   ]
  },
  {
   "cell_type": "markdown",
   "metadata": {},
   "source": [
    "#### <span style=\"color:black\">  user_agent </span>"
   ]
  },
  {
   "cell_type": "code",
   "execution_count": 18,
   "metadata": {},
   "outputs": [],
   "source": [
    "df['user_agent'].fillna('unknown', inplace=True)"
   ]
  },
  {
   "cell_type": "markdown",
   "metadata": {},
   "source": [
    " "
   ]
  },
  {
   "cell_type": "markdown",
   "metadata": {},
   "source": [
    "##### <span style=\"color:black\">  exit_survey_source_category | exit_survey_submitted_product | exit_survey_source </span>    \n",
    "    \n",
    "    "
   ]
  },
  {
   "cell_type": "code",
   "execution_count": 19,
   "metadata": {},
   "outputs": [],
   "source": [
    "df['exit_survey_source_category'].fillna('unknown', inplace=True)\n",
    "df['exit_survey_submitted_product'].fillna('unknown', inplace=True)\n",
    "df['exit_survey_source'].fillna('unknown', inplace=True)"
   ]
  },
  {
   "cell_type": "markdown",
   "metadata": {},
   "source": [
    " "
   ]
  },
  {
   "cell_type": "markdown",
   "metadata": {},
   "source": [
    " "
   ]
  },
  {
   "cell_type": "markdown",
   "metadata": {},
   "source": [
    "--- "
   ]
  },
  {
   "cell_type": "markdown",
   "metadata": {},
   "source": [
    " "
   ]
  },
  {
   "cell_type": "markdown",
   "metadata": {},
   "source": [
    "## <span style=\"color:#4682B4\"> Check Sessions for users who Converted</span>  "
   ]
  },
  {
   "cell_type": "code",
   "execution_count": 20,
   "metadata": {},
   "outputs": [
    {
     "data": {
      "text/plain": [
       "array(['11a34cec60b748b28b5e0ebb9d6cd227',\n",
       "       'a5a94680e4e74de8adf5f541bfe68781',\n",
       "       'd74612ffc91f40068b1301e5f7d5a1b4', ...,\n",
       "       '8401b4e5910a4a609683e83c473d3a6d',\n",
       "       '5daf8ce6bc7847c4b0ad02376e95f859',\n",
       "       'cfe8ad4c2bf644d18cf60384efc0a2d3'], dtype=object)"
      ]
     },
     "execution_count": 20,
     "metadata": {},
     "output_type": "execute_result"
    }
   ],
   "source": [
    "df[df['conv_1_life'] == 1]['user_analytics_id'].unique()"
   ]
  },
  {
   "cell_type": "markdown",
   "metadata": {},
   "source": [
    "        If the user has converted, is it Consistent for all the entries?"
   ]
  },
  {
   "cell_type": "code",
   "execution_count": 21,
   "metadata": {},
   "outputs": [
    {
     "data": {
      "text/plain": [
       "array([1.])"
      ]
     },
     "execution_count": 21,
     "metadata": {},
     "output_type": "execute_result"
    }
   ],
   "source": [
    "df[df['user_analytics_id']== '0000876502e244daac0d7c4fafc91392']['conv_1_life'].unique()"
   ]
  },
  {
   "cell_type": "markdown",
   "metadata": {},
   "source": [
    " "
   ]
  },
  {
   "cell_type": "markdown",
   "metadata": {},
   "source": [
    " "
   ]
  },
  {
   "cell_type": "markdown",
   "metadata": {},
   "source": [
    " "
   ]
  },
  {
   "cell_type": "markdown",
   "metadata": {},
   "source": [
    "### <span style=\"color:#4682B4\"> Convert Data Type for Date columns </span> "
   ]
  },
  {
   "cell_type": "markdown",
   "metadata": {},
   "source": [
    " "
   ]
  },
  {
   "cell_type": "markdown",
   "metadata": {},
   "source": [
    "- **conversion_date**"
   ]
  },
  {
   "cell_type": "code",
   "execution_count": 22,
   "metadata": {},
   "outputs": [],
   "source": [
    "df['conv_1_life_date'] = pd.to_datetime(df['conv_1_life_date'])\n",
    "df['conv_2_life_date'] = pd.to_datetime(df['conv_2_life_date'])\n",
    "df['conv_3_life_date'] = pd.to_datetime(df['conv_3_life_date'])"
   ]
  },
  {
   "cell_type": "markdown",
   "metadata": {},
   "source": [
    "- **created_at**"
   ]
  },
  {
   "cell_type": "markdown",
   "metadata": {},
   "source": [
    "Create Date and Time columns from 'created_at'"
   ]
  },
  {
   "cell_type": "code",
   "execution_count": 23,
   "metadata": {},
   "outputs": [],
   "source": [
    "df['created_at'] = df['created_at'].map(lambda x: x.rstrip(' UTC'))\n",
    "df['created_at'] = pd.to_datetime(df['created_at'])"
   ]
  },
  {
   "cell_type": "markdown",
   "metadata": {},
   "source": [
    " "
   ]
  },
  {
   "cell_type": "markdown",
   "metadata": {},
   "source": [
    " "
   ]
  },
  {
   "cell_type": "markdown",
   "metadata": {},
   "source": [
    " "
   ]
  },
  {
   "cell_type": "markdown",
   "metadata": {},
   "source": [
    "### <span style=\"color:#4682B4\"> Create new columns </span> "
   ]
  },
  {
   "cell_type": "code",
   "execution_count": 24,
   "metadata": {},
   "outputs": [
    {
     "data": {
      "text/html": [
       "<div>\n",
       "<style scoped>\n",
       "    .dataframe tbody tr th:only-of-type {\n",
       "        vertical-align: middle;\n",
       "    }\n",
       "\n",
       "    .dataframe tbody tr th {\n",
       "        vertical-align: top;\n",
       "    }\n",
       "\n",
       "    .dataframe thead th {\n",
       "        text-align: right;\n",
       "    }\n",
       "</style>\n",
       "<table border=\"1\" class=\"dataframe\">\n",
       "  <thead>\n",
       "    <tr style=\"text-align: right;\">\n",
       "      <th></th>\n",
       "      <th>user_analytics_id</th>\n",
       "      <th>user_agent</th>\n",
       "      <th>referred_to_url</th>\n",
       "      <th>created_at</th>\n",
       "      <th>visitor_source</th>\n",
       "      <th>conv_1_life</th>\n",
       "      <th>conv_1_life_date</th>\n",
       "      <th>conv_2_life</th>\n",
       "      <th>conv_2_life_date</th>\n",
       "      <th>conv_3_life</th>\n",
       "      <th>conv_3_life_date</th>\n",
       "      <th>exit_survey_source_category</th>\n",
       "      <th>exit_survey_submitted_product</th>\n",
       "      <th>exit_survey_source</th>\n",
       "      <th>product_visited</th>\n",
       "      <th>Time</th>\n",
       "      <th>Date</th>\n",
       "      <th>time_diff_sec</th>\n",
       "    </tr>\n",
       "  </thead>\n",
       "  <tbody>\n",
       "    <tr>\n",
       "      <th>0</th>\n",
       "      <td>170bc53eb46b4e59a2f321bda584e9b8</td>\n",
       "      <td>Mozilla/5.0 (Macintosh; Intel Mac OS X 10_12_6...</td>\n",
       "      <td>/taxes/guide-to-gift-tax/</td>\n",
       "      <td>2020-10-08 13:41:43</td>\n",
       "      <td>Organic - SEO</td>\n",
       "      <td>0.0</td>\n",
       "      <td>NaT</td>\n",
       "      <td>0.0</td>\n",
       "      <td>NaT</td>\n",
       "      <td>0.0</td>\n",
       "      <td>NaT</td>\n",
       "      <td>unknown</td>\n",
       "      <td>unknown</td>\n",
       "      <td>unknown</td>\n",
       "      <td>other</td>\n",
       "      <td>13:41:43</td>\n",
       "      <td>2020-10-08</td>\n",
       "      <td>NaT</td>\n",
       "    </tr>\n",
       "  </tbody>\n",
       "</table>\n",
       "</div>"
      ],
      "text/plain": [
       "                  user_analytics_id  \\\n",
       "0  170bc53eb46b4e59a2f321bda584e9b8   \n",
       "\n",
       "                                          user_agent  \\\n",
       "0  Mozilla/5.0 (Macintosh; Intel Mac OS X 10_12_6...   \n",
       "\n",
       "             referred_to_url          created_at visitor_source  conv_1_life  \\\n",
       "0  /taxes/guide-to-gift-tax/ 2020-10-08 13:41:43  Organic - SEO          0.0   \n",
       "\n",
       "  conv_1_life_date  conv_2_life conv_2_life_date  conv_3_life  \\\n",
       "0              NaT          0.0              NaT          0.0   \n",
       "\n",
       "  conv_3_life_date exit_survey_source_category exit_survey_submitted_product  \\\n",
       "0              NaT                     unknown                       unknown   \n",
       "\n",
       "  exit_survey_source product_visited      Time        Date time_diff_sec  \n",
       "0            unknown           other  13:41:43  2020-10-08           NaT  "
      ]
     },
     "execution_count": 24,
     "metadata": {},
     "output_type": "execute_result"
    }
   ],
   "source": [
    "#1.Created a Date and Time column from created_at\n",
    "\n",
    "df['Time'],df['Date']= df['created_at'].apply(lambda x:x.time()), df['created_at'].apply(lambda x:x.date())\n",
    "\n",
    "\n",
    "df['time_diff_sec'] = df.groupby('user_analytics_id')['created_at'].diff()\n",
    "\n",
    "df.head(1)"
   ]
  },
  {
   "cell_type": "code",
   "execution_count": 25,
   "metadata": {},
   "outputs": [],
   "source": [
    "df['time_diff_sec'] = df.groupby('user_analytics_id')['created_at'].diff()"
   ]
  },
  {
   "cell_type": "markdown",
   "metadata": {},
   "source": [
    " "
   ]
  },
  {
   "cell_type": "markdown",
   "metadata": {},
   "source": [
    "### <span style=\"color:#4682B4\"> Sort </span> \n",
    "\n",
    "    It is important to sort the dataframe before processing it to study about the user's data points and duplicates. Let us sort the Dataframe with user_id, Date and Time"
   ]
  },
  {
   "cell_type": "code",
   "execution_count": 26,
   "metadata": {},
   "outputs": [
    {
     "data": {
      "text/html": [
       "<div>\n",
       "<style scoped>\n",
       "    .dataframe tbody tr th:only-of-type {\n",
       "        vertical-align: middle;\n",
       "    }\n",
       "\n",
       "    .dataframe tbody tr th {\n",
       "        vertical-align: top;\n",
       "    }\n",
       "\n",
       "    .dataframe thead th {\n",
       "        text-align: right;\n",
       "    }\n",
       "</style>\n",
       "<table border=\"1\" class=\"dataframe\">\n",
       "  <thead>\n",
       "    <tr style=\"text-align: right;\">\n",
       "      <th></th>\n",
       "      <th>user_analytics_id</th>\n",
       "      <th>user_agent</th>\n",
       "      <th>referred_to_url</th>\n",
       "      <th>created_at</th>\n",
       "      <th>visitor_source</th>\n",
       "      <th>conv_1_life</th>\n",
       "      <th>conv_1_life_date</th>\n",
       "      <th>conv_2_life</th>\n",
       "      <th>conv_2_life_date</th>\n",
       "      <th>conv_3_life</th>\n",
       "      <th>conv_3_life_date</th>\n",
       "      <th>exit_survey_source_category</th>\n",
       "      <th>exit_survey_submitted_product</th>\n",
       "      <th>exit_survey_source</th>\n",
       "      <th>product_visited</th>\n",
       "      <th>Time</th>\n",
       "      <th>Date</th>\n",
       "      <th>time_diff_sec</th>\n",
       "    </tr>\n",
       "  </thead>\n",
       "  <tbody>\n",
       "    <tr>\n",
       "      <th>0</th>\n",
       "      <td>00000873fbff416da9913db8a99a1b9d</td>\n",
       "      <td>Mozilla/5.0 (Windows NT 10.0; Win64; x64) Appl...</td>\n",
       "      <td>/affiliates/landing</td>\n",
       "      <td>2020-03-20 18:27:46</td>\n",
       "      <td>Partnerships</td>\n",
       "      <td>0.0</td>\n",
       "      <td>NaT</td>\n",
       "      <td>0.0</td>\n",
       "      <td>NaT</td>\n",
       "      <td>0.0</td>\n",
       "      <td>NaT</td>\n",
       "      <td>unknown</td>\n",
       "      <td>unknown</td>\n",
       "      <td>unknown</td>\n",
       "      <td>other</td>\n",
       "      <td>18:27:46</td>\n",
       "      <td>2020-03-20</td>\n",
       "      <td>NaT</td>\n",
       "    </tr>\n",
       "    <tr>\n",
       "      <th>1</th>\n",
       "      <td>00000c61c3c741298c2b64dccac6cd3a</td>\n",
       "      <td>Mozilla/5.0 (Macintosh; Intel Mac OS X 10_15_3...</td>\n",
       "      <td>https://renters.policygenius.com/renters-insur...</td>\n",
       "      <td>2020-04-18 19:33:29</td>\n",
       "      <td>Earned Media</td>\n",
       "      <td>0.0</td>\n",
       "      <td>NaT</td>\n",
       "      <td>0.0</td>\n",
       "      <td>NaT</td>\n",
       "      <td>0.0</td>\n",
       "      <td>NaT</td>\n",
       "      <td>unknown</td>\n",
       "      <td>unknown</td>\n",
       "      <td>unknown</td>\n",
       "      <td>other</td>\n",
       "      <td>19:33:29</td>\n",
       "      <td>2020-04-18</td>\n",
       "      <td>-5 days +10:35:26</td>\n",
       "    </tr>\n",
       "    <tr>\n",
       "      <th>2</th>\n",
       "      <td>00000c61c3c741298c2b64dccac6cd3a</td>\n",
       "      <td>Mozilla/5.0 (Macintosh; Intel Mac OS X 10_15_3...</td>\n",
       "      <td>/</td>\n",
       "      <td>2020-04-23 08:58:03</td>\n",
       "      <td>Direct</td>\n",
       "      <td>0.0</td>\n",
       "      <td>NaT</td>\n",
       "      <td>0.0</td>\n",
       "      <td>NaT</td>\n",
       "      <td>0.0</td>\n",
       "      <td>NaT</td>\n",
       "      <td>unknown</td>\n",
       "      <td>unknown</td>\n",
       "      <td>unknown</td>\n",
       "      <td>other</td>\n",
       "      <td>08:58:03</td>\n",
       "      <td>2020-04-23</td>\n",
       "      <td>NaT</td>\n",
       "    </tr>\n",
       "    <tr>\n",
       "      <th>3</th>\n",
       "      <td>00001b6b02e74e44b3a14485e39038fc</td>\n",
       "      <td>Mozilla/5.0 (Windows NT 10.0; Win64; x64; rv:8...</td>\n",
       "      <td>/blog/american-money-what-lincoln-teaches-us-a...</td>\n",
       "      <td>2021-01-25 23:00:06</td>\n",
       "      <td>Organic - SEO</td>\n",
       "      <td>0.0</td>\n",
       "      <td>NaT</td>\n",
       "      <td>0.0</td>\n",
       "      <td>NaT</td>\n",
       "      <td>0.0</td>\n",
       "      <td>NaT</td>\n",
       "      <td>unknown</td>\n",
       "      <td>unknown</td>\n",
       "      <td>unknown</td>\n",
       "      <td>other</td>\n",
       "      <td>23:00:06</td>\n",
       "      <td>2021-01-25</td>\n",
       "      <td>NaT</td>\n",
       "    </tr>\n",
       "  </tbody>\n",
       "</table>\n",
       "</div>"
      ],
      "text/plain": [
       "                  user_analytics_id  \\\n",
       "0  00000873fbff416da9913db8a99a1b9d   \n",
       "1  00000c61c3c741298c2b64dccac6cd3a   \n",
       "2  00000c61c3c741298c2b64dccac6cd3a   \n",
       "3  00001b6b02e74e44b3a14485e39038fc   \n",
       "\n",
       "                                          user_agent  \\\n",
       "0  Mozilla/5.0 (Windows NT 10.0; Win64; x64) Appl...   \n",
       "1  Mozilla/5.0 (Macintosh; Intel Mac OS X 10_15_3...   \n",
       "2  Mozilla/5.0 (Macintosh; Intel Mac OS X 10_15_3...   \n",
       "3  Mozilla/5.0 (Windows NT 10.0; Win64; x64; rv:8...   \n",
       "\n",
       "                                     referred_to_url          created_at  \\\n",
       "0                                /affiliates/landing 2020-03-20 18:27:46   \n",
       "1  https://renters.policygenius.com/renters-insur... 2020-04-18 19:33:29   \n",
       "2                                                  / 2020-04-23 08:58:03   \n",
       "3  /blog/american-money-what-lincoln-teaches-us-a... 2021-01-25 23:00:06   \n",
       "\n",
       "  visitor_source  conv_1_life conv_1_life_date  conv_2_life conv_2_life_date  \\\n",
       "0   Partnerships          0.0              NaT          0.0              NaT   \n",
       "1   Earned Media          0.0              NaT          0.0              NaT   \n",
       "2         Direct          0.0              NaT          0.0              NaT   \n",
       "3  Organic - SEO          0.0              NaT          0.0              NaT   \n",
       "\n",
       "   conv_3_life conv_3_life_date exit_survey_source_category  \\\n",
       "0          0.0              NaT                     unknown   \n",
       "1          0.0              NaT                     unknown   \n",
       "2          0.0              NaT                     unknown   \n",
       "3          0.0              NaT                     unknown   \n",
       "\n",
       "  exit_survey_submitted_product exit_survey_source product_visited      Time  \\\n",
       "0                       unknown            unknown           other  18:27:46   \n",
       "1                       unknown            unknown           other  19:33:29   \n",
       "2                       unknown            unknown           other  08:58:03   \n",
       "3                       unknown            unknown           other  23:00:06   \n",
       "\n",
       "         Date     time_diff_sec  \n",
       "0  2020-03-20               NaT  \n",
       "1  2020-04-18 -5 days +10:35:26  \n",
       "2  2020-04-23               NaT  \n",
       "3  2021-01-25               NaT  "
      ]
     },
     "execution_count": 26,
     "metadata": {},
     "output_type": "execute_result"
    }
   ],
   "source": [
    "df.sort_values(['user_analytics_id','Date','Time'], inplace=True)\n",
    "df.reset_index(drop=True, inplace=True)\n",
    "df.head(4)"
   ]
  },
  {
   "cell_type": "markdown",
   "metadata": {},
   "source": [
    " "
   ]
  },
  {
   "cell_type": "markdown",
   "metadata": {},
   "source": [
    " "
   ]
  },
  {
   "cell_type": "markdown",
   "metadata": {},
   "source": [
    " "
   ]
  },
  {
   "cell_type": "markdown",
   "metadata": {},
   "source": [
    "### <span style=\"color:#4682B4\"> Analyze the time difference between the two clicks </span> "
   ]
  },
  {
   "cell_type": "markdown",
   "metadata": {},
   "source": [
    "We can see that the most common time difference between the two clicks is < 60 min"
   ]
  },
  {
   "cell_type": "code",
   "execution_count": 43,
   "metadata": {},
   "outputs": [
    {
     "data": {
      "image/png": "[encoded data removed]",
      "text/plain": [
       "<Figure size 576x360 with 1 Axes>"
      ]
     },
     "metadata": {
      "needs_background": "light"
     },
     "output_type": "display_data"
    }
   ],
   "source": [
    "#Plot Time difference < 60 mins\n",
    "\n",
    "plt.figure(figsize=(8,5))\n",
    "sns.kdeplot(df[df['time_diff_sec'] <= pd.Timedelta(60,'m')]['time_diff_sec'].dt.components['minutes'], color=\"darkturquoise\", shade=True)\n",
    "plt.legend(['Time between the two clicks'])\n",
    "plt.title('Density Plot of Time (min) between the two clicks ')\n",
    "plt.xlabel('Time in min')\n",
    "plt.show()"
   ]
  },
  {
   "cell_type": "markdown",
   "metadata": {},
   "source": [
    "We can see that the most common time difference between the two clicks is < 60 sec"
   ]
  },
  {
   "cell_type": "code",
   "execution_count": 44,
   "metadata": {},
   "outputs": [
    {
     "data": {
      "image/png": "[encoded data removed]",
      "text/plain": [
       "<Figure size 576x360 with 1 Axes>"
      ]
     },
     "metadata": {
      "needs_background": "light"
     },
     "output_type": "display_data"
    }
   ],
   "source": [
    "#Plot Time difference < 60 mins\n",
    "\n",
    "plt.figure(figsize=(8,5))\n",
    "sns.kdeplot(df[df['time_diff_sec'] <= pd.Timedelta(60,'s')]['time_diff_sec'].dt.components['seconds'], color=\"darkturquoise\", shade=True)\n",
    "plt.legend(['Time between the two clicks'])\n",
    "plt.title('Density Plot of Time (sec) between the two clicks ')\n",
    "plt.xlabel('Time in sec')\n",
    "plt.show()"
   ]
  },
  {
   "cell_type": "markdown",
   "metadata": {},
   "source": [
    " "
   ]
  },
  {
   "cell_type": "markdown",
   "metadata": {},
   "source": [
    "    The Time difference indicates Duplicate rows which might be caused due to:\n",
    "    \n",
    "    1. website redirecting creates additional touchpoints within a short timeframe (< 1 minute).\n",
    "    2. user click on the campaign link within a short timeframe (< 1 minute)."
   ]
  },
  {
   "cell_type": "markdown",
   "metadata": {},
   "source": [
    " "
   ]
  },
  {
   "cell_type": "markdown",
   "metadata": {},
   "source": [
    " "
   ]
  },
  {
   "cell_type": "markdown",
   "metadata": {},
   "source": [
    " "
   ]
  },
  {
   "cell_type": "markdown",
   "metadata": {},
   "source": [
    "---"
   ]
  },
  {
   "cell_type": "markdown",
   "metadata": {},
   "source": [
    " "
   ]
  },
  {
   "cell_type": "markdown",
   "metadata": {},
   "source": [
    " "
   ]
  },
  {
   "cell_type": "markdown",
   "metadata": {},
   "source": [
    "# <span style=\"color:#00008B\"> Change 1 </span>"
   ]
  },
  {
   "cell_type": "markdown",
   "metadata": {},
   "source": [
    "## <span style=\"color:#4682B4\"> referred_to_url </span>  "
   ]
  },
  {
   "cell_type": "code",
   "execution_count": 122,
   "metadata": {},
   "outputs": [
    {
     "data": {
      "text/plain": [
       "array(['/thebalance-life-aig', '/thebalance-life-aig/'], dtype=object)"
      ]
     },
     "execution_count": 122,
     "metadata": {},
     "output_type": "execute_result"
    }
   ],
   "source": [
    "df[df['user_analytics_id']=='000ddd7a158043beac42f14d418cd574']['referred_to_url'].unique()"
   ]
  },
  {
   "cell_type": "markdown",
   "metadata": {},
   "source": [
    "We can see below that these users have different Referred URL's with in the same session. "
   ]
  },
  {
   "cell_type": "code",
   "execution_count": 123,
   "metadata": {},
   "outputs": [],
   "source": [
    "df['referred_to_url'] = df['referred_to_url'].astype('str')\n",
    "df['referred_to_url'] = df['referred_to_url'].apply(lambda x: x + '/' if not x.endswith('/') else x)"
   ]
  },
  {
   "cell_type": "markdown",
   "metadata": {},
   "source": [
    "    To solve: we could add ‘/’ at the end of the string if not already present."
   ]
  },
  {
   "cell_type": "code",
   "execution_count": 124,
   "metadata": {},
   "outputs": [
    {
     "data": {
      "text/plain": [
       "array(['/thebalance-life-aig/'], dtype=object)"
      ]
     },
     "execution_count": 124,
     "metadata": {},
     "output_type": "execute_result"
    }
   ],
   "source": [
    "df[df['user_analytics_id']=='000ddd7a158043beac42f14d418cd574']['referred_to_url'].unique()"
   ]
  },
  {
   "cell_type": "markdown",
   "metadata": {},
   "source": [
    " "
   ]
  },
  {
   "cell_type": "markdown",
   "metadata": {},
   "source": [
    " "
   ]
  },
  {
   "cell_type": "markdown",
   "metadata": {},
   "source": [
    " "
   ]
  },
  {
   "cell_type": "markdown",
   "metadata": {},
   "source": [
    "# <span style=\"color:#00008B\"> Change 2 </span>"
   ]
  },
  {
   "cell_type": "markdown",
   "metadata": {},
   "source": [
    " "
   ]
  },
  {
   "cell_type": "markdown",
   "metadata": {},
   "source": [
    "Currently, the product_visited column is created from referred_to_url as mentioned below:"
   ]
  },
  {
   "cell_type": "code",
   "execution_count": 54,
   "metadata": {},
   "outputs": [
    {
     "data": {
      "image/png": "[encoded data removed]",
      "text/plain": [
       "<IPython.core.display.Image object>"
      ]
     },
     "execution_count": 54,
     "metadata": {
      "image/png": {
       "height": 300,
       "width": 600
      }
     },
     "output_type": "execute_result"
    }
   ],
   "source": [
    "#Import library\n",
    "from IPython.display import Image\n",
    "\n",
    "# Load image from local storage\n",
    "Image(filename = \"../code.png\", width = 600, height = 300)"
   ]
  },
  {
   "cell_type": "markdown",
   "metadata": {},
   "source": [
    " "
   ]
  },
  {
   "cell_type": "markdown",
   "metadata": {},
   "source": [
    "## <span style=\"color:#4682B4\"> product_visited </span>"
   ]
  },
  {
   "cell_type": "code",
   "execution_count": 55,
   "metadata": {},
   "outputs": [
    {
     "data": {
      "text/plain": [
       "array(['/life-insurance/fbtp/', '/life-insurance/application',\n",
       "       '/life-insurance/no-zip-mlp-1', ...,\n",
       "       '/autologin/BAh7CDoMdXNlcl9pZGkE7q%252BbAToQcmVkaXJlY3RfdG8wOg9leHBpcmVzX2F0VTogQWN0aXZlU3VwcG9ydDo6VGltZVdpdGhab25lWwhJdToJVGltZQ12Ch7ApiBWoAk6CXpvbmVJIghVVEMGOgZFRjoNbmFub19udW1pAngDOg1uYW5vX2RlbmkGOg1zdWJtaWNybyIHiIBJIghVVEMGOwtUQAo%253D--27d88df159d76d9a98a262ba445f6529b314c58f/r/life-insurance/signatures/security-questions/ac1d7bf5-0b6f-49bd-a472-6eb6263c3621',\n",
       "       '/life-insurance/signatures/security-questions/9d028f15-4501-487e-aaaf-e6747b64e013',\n",
       "       '/life-insurance/signatures/basics-confirmation/af92067d-835c-41b1-b030-b3fc1ba83626'],\n",
       "      dtype=object)"
      ]
     },
     "execution_count": 55,
     "metadata": {},
     "output_type": "execute_result"
    }
   ],
   "source": [
    "df[df['product_visited'] == 'life']['referred_to_url'].unique()"
   ]
  },
  {
   "cell_type": "markdown",
   "metadata": {},
   "source": [
    " "
   ]
  },
  {
   "cell_type": "markdown",
   "metadata": {},
   "source": [
    "    Let us identify the referred_to_url that contains the word \"life\" but is not categorized as life in the product visited column"
   ]
  },
  {
   "cell_type": "code",
   "execution_count": 56,
   "metadata": {},
   "outputs": [
    {
     "data": {
      "text/html": [
       "<div>\n",
       "<style scoped>\n",
       "    .dataframe tbody tr th:only-of-type {\n",
       "        vertical-align: middle;\n",
       "    }\n",
       "\n",
       "    .dataframe tbody tr th {\n",
       "        vertical-align: top;\n",
       "    }\n",
       "\n",
       "    .dataframe thead th {\n",
       "        text-align: right;\n",
       "    }\n",
       "</style>\n",
       "<table border=\"1\" class=\"dataframe\">\n",
       "  <thead>\n",
       "    <tr style=\"text-align: right;\">\n",
       "      <th></th>\n",
       "      <th>product_visited</th>\n",
       "      <th>referred_to_url</th>\n",
       "    </tr>\n",
       "  </thead>\n",
       "  <tbody>\n",
       "    <tr>\n",
       "      <th>0</th>\n",
       "      <td>auto</td>\n",
       "      <td>[/auto-insurance/reviews/metlife/]</td>\n",
       "    </tr>\n",
       "    <tr>\n",
       "      <th>1</th>\n",
       "      <td>home</td>\n",
       "      <td>[/homeowners-insurance/reviews/metlife/, /home...</td>\n",
       "    </tr>\n",
       "    <tr>\n",
       "      <th>2</th>\n",
       "      <td>other</td>\n",
       "      <td>[/awareness-5-tips-for-spouses-shopping-for-li...</td>\n",
       "    </tr>\n",
       "  </tbody>\n",
       "</table>\n",
       "</div>"
      ],
      "text/plain": [
       "  product_visited                                    referred_to_url\n",
       "0            auto                 [/auto-insurance/reviews/metlife/]\n",
       "1            home  [/homeowners-insurance/reviews/metlife/, /home...\n",
       "2           other  [/awareness-5-tips-for-spouses-shopping-for-li..."
      ]
     },
     "execution_count": 56,
     "metadata": {},
     "output_type": "execute_result"
    }
   ],
   "source": [
    "product_visited_df = pd.DataFrame(df[(df['referred_to_url'].str.contains(\"life\", na=False)) & (df['product_visited'] != 'life')][['referred_to_url','product_visited']]\\\n",
    "             .groupby(['product_visited'])['referred_to_url'].unique()).reset_index()\n",
    "\n",
    "\n",
    "\n",
    "product_visited_df"
   ]
  },
  {
   "cell_type": "code",
   "execution_count": 71,
   "metadata": {},
   "outputs": [
    {
     "name": "stdout",
     "output_type": "stream",
     "text": [
      "auto:  1\n",
      "home:  3\n",
      "other:  15149\n"
     ]
    }
   ],
   "source": [
    "print(\"auto: \", len(list(product_visited_df[product_visited_df['product_visited'] == 'auto']['referred_to_url'][0])))\n",
    "print(\"home: \", len( list(product_visited_df[product_visited_df['product_visited'] == 'home']['referred_to_url'][1])))\n",
    "print(\"other: \", len( list(product_visited_df[product_visited_df['product_visited'] == 'other']['referred_to_url'][2])))"
   ]
  },
  {
   "cell_type": "markdown",
   "metadata": {},
   "source": [
    " "
   ]
  },
  {
   "cell_type": "markdown",
   "metadata": {},
   "source": [
    " "
   ]
  },
  {
   "cell_type": "markdown",
   "metadata": {},
   "source": [
    " "
   ]
  },
  {
   "cell_type": "markdown",
   "metadata": {},
   "source": [
    "**product_visited = auto**\n",
    "\n",
    "Check unique referred_to_url for product visited 'auto'"
   ]
  },
  {
   "cell_type": "code",
   "execution_count": 72,
   "metadata": {},
   "outputs": [
    {
     "data": {
      "text/plain": [
       "['/auto-insurance/reviews/metlife/']"
      ]
     },
     "execution_count": 72,
     "metadata": {},
     "output_type": "execute_result"
    }
   ],
   "source": [
    "product_visited_df[product_visited_df['product_visited']== 'auto']['referred_to_url'][0].tolist()"
   ]
  },
  {
   "cell_type": "markdown",
   "metadata": {},
   "source": [
    " "
   ]
  },
  {
   "cell_type": "markdown",
   "metadata": {},
   "source": [
    " "
   ]
  },
  {
   "cell_type": "markdown",
   "metadata": {},
   "source": [
    "**product_visited = home**\n",
    "\n",
    "Check unique referred_to_url for product visited 'home'"
   ]
  },
  {
   "cell_type": "code",
   "execution_count": 73,
   "metadata": {},
   "outputs": [
    {
     "data": {
      "text/plain": [
       "['/homeowners-insurance/reviews/metlife/',\n",
       " '/homeowners-insurance/home-insurance-vs-life-insurance/',\n",
       " '/homeowners-insurance/home-insurance-vs-life-insurance']"
      ]
     },
     "execution_count": 73,
     "metadata": {},
     "output_type": "execute_result"
    }
   ],
   "source": [
    "product_visited_df[product_visited_df['product_visited']== 'home']['referred_to_url'][1].tolist()"
   ]
  },
  {
   "cell_type": "markdown",
   "metadata": {},
   "source": [
    " "
   ]
  },
  {
   "cell_type": "markdown",
   "metadata": {},
   "source": [
    " "
   ]
  },
  {
   "cell_type": "markdown",
   "metadata": {},
   "source": [
    "**product_visited = other**\n",
    "\n",
    "Check unique referred_to_url for product visited 'auto'\n",
    "\n",
    "- /umbrella/v1/gold-rush/lincoln-national-life/\n",
    "- /blog/new-parent-additional-life-insurance/\n",
    "- /investopedia-life-protective\n",
    "- /blog/is-pet-life-insurance-worth-it/\n",
    "- /creditkarma-life/\n",
    "- /nerdwallet-life/\n",
    "- /blog/what-happens-when-youre-owed-life-insurance-money-dont-know-it/\n",
    "\n",
    "**life insurance related**\n",
    "- /policy-center/life/confirmation\n",
    "- /bestowlife\n",
    "- /policy-center/life\n",
    "- /physicianonfirelife/\n",
    "\n",
    "**non-life insurance related**\n",
    "- /defrancolife/\n",
    "- /whatsinsidelife/\n",
    "\n"
   ]
  },
  {
   "cell_type": "markdown",
   "metadata": {},
   "source": [
    " "
   ]
  },
  {
   "cell_type": "markdown",
   "metadata": {},
   "source": [
    " "
   ]
  },
  {
   "cell_type": "markdown",
   "metadata": {},
   "source": [
    "##### Note 1:\n",
    "- If we categorized URLs that contain the word “life” we can increase the TP & FP equally. \n",
    "\n",
    "\n",
    "- Alternative: If we categorized URLs that contain the word “-life” we can increase the TP. \n",
    "\n"
   ]
  },
  {
   "cell_type": "markdown",
   "metadata": {},
   "source": [
    " "
   ]
  },
  {
   "cell_type": "markdown",
   "metadata": {},
   "source": [
    "##### Note 1:\n",
    "\n",
    "- If we plan to categorize URLs that contain the word “life”, we have to make sure that it is not already categorized into auto / home / life. \n",
    "\n",
    "\n",
    "- In other words, it should be only applied where the product_visited is **NULL (OTHERS)**"
   ]
  },
  {
   "cell_type": "code",
   "execution_count": null,
   "metadata": {},
   "outputs": [],
   "source": [
    "#product_visited_df[product_visited_df['product_visited']== 'other']['referred_to_url'][2].tolist()"
   ]
  },
  {
   "cell_type": "markdown",
   "metadata": {},
   "source": [
    "#### <span style=\"color:black\"> Replace product_visited = Life </span>"
   ]
  },
  {
   "cell_type": "code",
   "execution_count": 74,
   "metadata": {},
   "outputs": [],
   "source": [
    "df.loc[(df['referred_to_url'].str.contains(\"-life\", na=False)) & (df['product_visited'] == 'other'), 'product_visited'] = 'life'"
   ]
  },
  {
   "cell_type": "markdown",
   "metadata": {},
   "source": [
    " "
   ]
  },
  {
   "cell_type": "markdown",
   "metadata": {},
   "source": [
    " "
   ]
  },
  {
   "cell_type": "markdown",
   "metadata": {},
   "source": [
    " "
   ]
  },
  {
   "cell_type": "markdown",
   "metadata": {},
   "source": [
    "------"
   ]
  },
  {
   "cell_type": "markdown",
   "metadata": {},
   "source": [
    "# <span style=\"color:#00008B\"> Change 3 </span>"
   ]
  },
  {
   "cell_type": "markdown",
   "metadata": {},
   "source": [
    "# <span style=\"color:#4682B4\"> Duplicates </span>"
   ]
  },
  {
   "cell_type": "markdown",
   "metadata": {},
   "source": [
    "    Let us analyze the rows with less than 60 sec time difference"
   ]
  },
  {
   "cell_type": "code",
   "execution_count": 77,
   "metadata": {},
   "outputs": [
    {
     "data": {
      "image/png": "[encoded data removed]",
      "text/plain": [
       "<Figure size 576x360 with 1 Axes>"
      ]
     },
     "metadata": {
      "needs_background": "light"
     },
     "output_type": "display_data"
    }
   ],
   "source": [
    "#Plot Time difference < 60 mins\n",
    "\n",
    "plt.figure(figsize=(8,5))\n",
    "sns.kdeplot(df[df['time_diff_sec'] <= pd.Timedelta(60,'s')]['time_diff_sec'].dt.components['seconds'], color=\"darkturquoise\", shade=True)\n",
    "plt.legend(['Time between the two clicks'])\n",
    "plt.title('Density Plot of Time (sec) between the two clicks ')\n",
    "plt.xlabel('Time in sec')\n",
    "plt.show()"
   ]
  },
  {
   "cell_type": "markdown",
   "metadata": {},
   "source": [
    "        Plot the number of times the user visited the site within 60 seconds. "
   ]
  },
  {
   "cell_type": "code",
   "execution_count": 80,
   "metadata": {},
   "outputs": [
    {
     "data": {
      "image/png": "[encoded data removed]",
      "text/plain": [
       "<Figure size 576x360 with 1 Axes>"
      ]
     },
     "metadata": {
      "needs_background": "light"
     },
     "output_type": "display_data"
    }
   ],
   "source": [
    "#Plot Time difference < 5 mins\n",
    "\n",
    "plt.figure(figsize=(8,5))\n",
    "sns.kdeplot(df[df['time_diff_sec'] <= pd.Timedelta(60,'s')].user_analytics_id.value_counts().unique(), color=\"blue\", shade=True)\n",
    "#plt.legend(['Number of times user visited'])\n",
    "plt.title('Density Plot of number of times user visited')\n",
    "plt.xlabel('Number of Times user visited')\n",
    "plt.show()"
   ]
  },
  {
   "cell_type": "markdown",
   "metadata": {},
   "source": [
    " "
   ]
  },
  {
   "cell_type": "markdown",
   "metadata": {},
   "source": [
    " "
   ]
  },
  {
   "cell_type": "markdown",
   "metadata": {},
   "source": [
    " "
   ]
  },
  {
   "cell_type": "markdown",
   "metadata": {},
   "source": [
    " "
   ]
  },
  {
   "cell_type": "markdown",
   "metadata": {},
   "source": [
    "-------"
   ]
  },
  {
   "cell_type": "markdown",
   "metadata": {},
   "source": [
    " "
   ]
  },
  {
   "cell_type": "markdown",
   "metadata": {},
   "source": [
    " "
   ]
  },
  {
   "cell_type": "markdown",
   "metadata": {},
   "source": [
    "## <span style=\"color:#4682B4\"> Create Sessions </span>"
   ]
  },
  {
   "cell_type": "markdown",
   "metadata": {},
   "source": [
    " "
   ]
  },
  {
   "cell_type": "markdown",
   "metadata": {},
   "source": [
    "A session is a group of user interactions with your website that take place within a given time frame (a single session can contain multiple page views)\n",
    "\n",
    "We are following two methods by which a session ends:\n",
    "\n",
    "- Time-based expiration:\n",
    "    - After 30 minutes of inactivity\n",
    "    - At midnight\n",
    "    \n",
    "    \n",
    "- Campaign change:\n",
    "    - If a user arrives via one campaign, leaves, and then comes back via a different campaign.\n",
    "    \n",
    "    \n",
    "    \n",
    "A single user can open multiple sessions. Those sessions can occur on the same day, or over several days, weeks, or months. As soon as one session ends, there is then an opportunity to start a new session. "
   ]
  },
  {
   "cell_type": "markdown",
   "metadata": {},
   "source": [
    " "
   ]
  },
  {
   "cell_type": "markdown",
   "metadata": {},
   "source": [
    " "
   ]
  },
  {
   "cell_type": "code",
   "execution_count": 94,
   "metadata": {},
   "outputs": [],
   "source": [
    "# Sorting is needed, otherwise .diff() will output wrong results\n",
    "df.sort_values(['user_analytics_id', 'created_at'], inplace=True)\n",
    "\n",
    "# Timestamp diff in seconds\n",
    "diff_timestamp = df.groupby(['user_analytics_id', 'Date'])['created_at'].diff()\n",
    "\n",
    "# indexes where new session_id will be created\n",
    "new_session = (diff_timestamp.isnull()) | (diff_timestamp >= pd.Timedelta(30, 'm'))\n",
    "\n",
    "# Create unique session_id for every user\n",
    "df['session_id'] = df.loc[new_session, ['user_analytics_id', 'created_at']] \\\n",
    "    .groupby('user_analytics_id').rank(method='first').astype(int)\n",
    "\n",
    "# Propagate last valid observation forward (replace NaN)\n",
    "df['session_id'] = df['session_id'].fillna(method='ffill').astype(int)\n"
   ]
  },
  {
   "cell_type": "markdown",
   "metadata": {},
   "source": [
    " "
   ]
  },
  {
   "cell_type": "code",
   "execution_count": 3,
   "metadata": {},
   "outputs": [],
   "source": [
    "import pandas as pd\n",
    "df = pd.read_csv(\"Created_30mSessions.csv\")\n",
    "df.drop('Unnamed: 0',axis=1 , inplace=True)"
   ]
  },
  {
   "cell_type": "markdown",
   "metadata": {},
   "source": [
    "## <span style=\"color:#4682B4\"> Analysis  </span>    "
   ]
  },
  {
   "cell_type": "markdown",
   "metadata": {},
   "source": [
    "## <span style=\"color:#4682B4\"> Example 1  </span>    \n",
    "    USER: e92e0324865f41ae85c1feda74f566f6"
   ]
  },
  {
   "cell_type": "code",
   "execution_count": 101,
   "metadata": {},
   "outputs": [
    {
     "data": {
      "text/html": [
       "<div>\n",
       "<style scoped>\n",
       "    .dataframe tbody tr th:only-of-type {\n",
       "        vertical-align: middle;\n",
       "    }\n",
       "\n",
       "    .dataframe tbody tr th {\n",
       "        vertical-align: top;\n",
       "    }\n",
       "\n",
       "    .dataframe thead th {\n",
       "        text-align: right;\n",
       "    }\n",
       "</style>\n",
       "<table border=\"1\" class=\"dataframe\">\n",
       "  <thead>\n",
       "    <tr style=\"text-align: right;\">\n",
       "      <th></th>\n",
       "      <th>user_analytics_id</th>\n",
       "      <th>user_agent</th>\n",
       "      <th>referred_to_url</th>\n",
       "      <th>visitor_source</th>\n",
       "      <th>product_visited</th>\n",
       "      <th>Time</th>\n",
       "      <th>Date</th>\n",
       "      <th>session_id</th>\n",
       "    </tr>\n",
       "  </thead>\n",
       "  <tbody>\n",
       "    <tr>\n",
       "      <th>0</th>\n",
       "      <td>e92e0324865f41ae85c1feda74f566f6</td>\n",
       "      <td>Mozilla/5.0 (Linux; Android 8.1.0; LML211BL) A...</td>\n",
       "      <td>/top10-life/index.html/</td>\n",
       "      <td>Partnerships</td>\n",
       "      <td>life</td>\n",
       "      <td>11:36:17</td>\n",
       "      <td>2020-09-17</td>\n",
       "      <td>1</td>\n",
       "    </tr>\n",
       "    <tr>\n",
       "      <th>1</th>\n",
       "      <td>e92e0324865f41ae85c1feda74f566f6</td>\n",
       "      <td>Mozilla/5.0 (Linux; Android 8.1.0; LML211BL) A...</td>\n",
       "      <td>/autologin/BAh7CDoMdXNlcl9pZGkEp%252F8YAjoQcmV...</td>\n",
       "      <td>Email</td>\n",
       "      <td>life</td>\n",
       "      <td>12:02:13</td>\n",
       "      <td>2020-10-02</td>\n",
       "      <td>2</td>\n",
       "    </tr>\n",
       "    <tr>\n",
       "      <th>2</th>\n",
       "      <td>e92e0324865f41ae85c1feda74f566f6</td>\n",
       "      <td>Mozilla/5.0 (Linux; Android 8.1.0; LML211BL) A...</td>\n",
       "      <td>/life-insurance/comparison/</td>\n",
       "      <td>Email</td>\n",
       "      <td>life</td>\n",
       "      <td>12:04:49</td>\n",
       "      <td>2020-10-02</td>\n",
       "      <td>2</td>\n",
       "    </tr>\n",
       "    <tr>\n",
       "      <th>3</th>\n",
       "      <td>e92e0324865f41ae85c1feda74f566f6</td>\n",
       "      <td>Mozilla/5.0 (Linux; Android 8.1.0; LML211BL) A...</td>\n",
       "      <td>/life-insurance/comparison/</td>\n",
       "      <td>Email</td>\n",
       "      <td>life</td>\n",
       "      <td>12:04:55</td>\n",
       "      <td>2020-10-02</td>\n",
       "      <td>2</td>\n",
       "    </tr>\n",
       "    <tr>\n",
       "      <th>4</th>\n",
       "      <td>e92e0324865f41ae85c1feda74f566f6</td>\n",
       "      <td>Mozilla/5.0 (Linux; Android 8.1.0; LML211BL) A...</td>\n",
       "      <td>/life-insurance/comparison/</td>\n",
       "      <td>Email</td>\n",
       "      <td>life</td>\n",
       "      <td>12:05:11</td>\n",
       "      <td>2020-10-02</td>\n",
       "      <td>2</td>\n",
       "    </tr>\n",
       "    <tr>\n",
       "      <th>5</th>\n",
       "      <td>e92e0324865f41ae85c1feda74f566f6</td>\n",
       "      <td>Mozilla/5.0 (Linux; Android 8.1.0; LML211BL) A...</td>\n",
       "      <td>/life-insurance/comparison/</td>\n",
       "      <td>Email</td>\n",
       "      <td>life</td>\n",
       "      <td>12:07:05</td>\n",
       "      <td>2020-10-02</td>\n",
       "      <td>2</td>\n",
       "    </tr>\n",
       "    <tr>\n",
       "      <th>6</th>\n",
       "      <td>e92e0324865f41ae85c1feda74f566f6</td>\n",
       "      <td>Mozilla/5.0 (Linux; Android 8.1.0; LML211BL) A...</td>\n",
       "      <td>/life-insurance/comparison/</td>\n",
       "      <td>Email</td>\n",
       "      <td>life</td>\n",
       "      <td>12:14:47</td>\n",
       "      <td>2020-10-02</td>\n",
       "      <td>2</td>\n",
       "    </tr>\n",
       "    <tr>\n",
       "      <th>7</th>\n",
       "      <td>e92e0324865f41ae85c1feda74f566f6</td>\n",
       "      <td>Mozilla/5.0 (Linux; Android 8.1.0; LML211BL) A...</td>\n",
       "      <td>/life-insurance/comparison/</td>\n",
       "      <td>Email</td>\n",
       "      <td>life</td>\n",
       "      <td>12:25:59</td>\n",
       "      <td>2020-10-02</td>\n",
       "      <td>2</td>\n",
       "    </tr>\n",
       "    <tr>\n",
       "      <th>8</th>\n",
       "      <td>e92e0324865f41ae85c1feda74f566f6</td>\n",
       "      <td>Mozilla/5.0 (Linux; Android 8.1.0; LML211BL) A...</td>\n",
       "      <td>/life-insurance/comparison/</td>\n",
       "      <td>Email</td>\n",
       "      <td>life</td>\n",
       "      <td>12:37:30</td>\n",
       "      <td>2020-10-02</td>\n",
       "      <td>2</td>\n",
       "    </tr>\n",
       "    <tr>\n",
       "      <th>9</th>\n",
       "      <td>e92e0324865f41ae85c1feda74f566f6</td>\n",
       "      <td>Mozilla/5.0 (Linux; Android 8.1.0; LML211BL) A...</td>\n",
       "      <td>/life-insurance/comparison/</td>\n",
       "      <td>Email</td>\n",
       "      <td>life</td>\n",
       "      <td>12:38:17</td>\n",
       "      <td>2020-10-02</td>\n",
       "      <td>2</td>\n",
       "    </tr>\n",
       "    <tr>\n",
       "      <th>10</th>\n",
       "      <td>e92e0324865f41ae85c1feda74f566f6</td>\n",
       "      <td>Mozilla/5.0 (Linux; Android 8.1.0; LML211BL) A...</td>\n",
       "      <td>/life-insurance/comparison/</td>\n",
       "      <td>Email</td>\n",
       "      <td>life</td>\n",
       "      <td>12:38:36</td>\n",
       "      <td>2020-10-02</td>\n",
       "      <td>2</td>\n",
       "    </tr>\n",
       "    <tr>\n",
       "      <th>11</th>\n",
       "      <td>e92e0324865f41ae85c1feda74f566f6</td>\n",
       "      <td>Mozilla/5.0 (Linux; Android 8.1.0; LML211BL) A...</td>\n",
       "      <td>/life-insurance/comparison/</td>\n",
       "      <td>Email</td>\n",
       "      <td>life</td>\n",
       "      <td>14:01:09</td>\n",
       "      <td>2020-10-02</td>\n",
       "      <td>3</td>\n",
       "    </tr>\n",
       "    <tr>\n",
       "      <th>12</th>\n",
       "      <td>e92e0324865f41ae85c1feda74f566f6</td>\n",
       "      <td>Mozilla/5.0 (Linux; Android 8.1.0; LML211BL) A...</td>\n",
       "      <td>/life-insurance/comparison/</td>\n",
       "      <td>Email</td>\n",
       "      <td>life</td>\n",
       "      <td>14:01:35</td>\n",
       "      <td>2020-10-02</td>\n",
       "      <td>3</td>\n",
       "    </tr>\n",
       "    <tr>\n",
       "      <th>13</th>\n",
       "      <td>e92e0324865f41ae85c1feda74f566f6</td>\n",
       "      <td>Mozilla/5.0 (Linux; Android 8.1.0; LML211BL) A...</td>\n",
       "      <td>/life-insurance/comparison/</td>\n",
       "      <td>Email</td>\n",
       "      <td>life</td>\n",
       "      <td>14:02:27</td>\n",
       "      <td>2020-10-02</td>\n",
       "      <td>3</td>\n",
       "    </tr>\n",
       "    <tr>\n",
       "      <th>14</th>\n",
       "      <td>e92e0324865f41ae85c1feda74f566f6</td>\n",
       "      <td>Mozilla/5.0 (Linux; Android 8.1.0; LML211BL) A...</td>\n",
       "      <td>/life-insurance/comparison/</td>\n",
       "      <td>Email</td>\n",
       "      <td>life</td>\n",
       "      <td>14:04:11</td>\n",
       "      <td>2020-10-02</td>\n",
       "      <td>3</td>\n",
       "    </tr>\n",
       "    <tr>\n",
       "      <th>15</th>\n",
       "      <td>e92e0324865f41ae85c1feda74f566f6</td>\n",
       "      <td>Mozilla/5.0 (Linux; Android 8.1.0; LML211BL) A...</td>\n",
       "      <td>/life-insurance/comparison/</td>\n",
       "      <td>Email</td>\n",
       "      <td>life</td>\n",
       "      <td>14:07:26</td>\n",
       "      <td>2020-10-02</td>\n",
       "      <td>3</td>\n",
       "    </tr>\n",
       "    <tr>\n",
       "      <th>16</th>\n",
       "      <td>e92e0324865f41ae85c1feda74f566f6</td>\n",
       "      <td>Mozilla/5.0 (Linux; Android 8.1.0; LML211BL) A...</td>\n",
       "      <td>/life-insurance/comparison/</td>\n",
       "      <td>Email</td>\n",
       "      <td>life</td>\n",
       "      <td>14:08:12</td>\n",
       "      <td>2020-10-02</td>\n",
       "      <td>3</td>\n",
       "    </tr>\n",
       "    <tr>\n",
       "      <th>17</th>\n",
       "      <td>e92e0324865f41ae85c1feda74f566f6</td>\n",
       "      <td>Mozilla/5.0 (Linux; Android 8.1.0; LML211BL) A...</td>\n",
       "      <td>/life-insurance/comparison/</td>\n",
       "      <td>Email</td>\n",
       "      <td>life</td>\n",
       "      <td>14:08:38</td>\n",
       "      <td>2020-10-02</td>\n",
       "      <td>3</td>\n",
       "    </tr>\n",
       "    <tr>\n",
       "      <th>18</th>\n",
       "      <td>e92e0324865f41ae85c1feda74f566f6</td>\n",
       "      <td>Mozilla/5.0 (Linux; Android 8.1.0; LML211BL) A...</td>\n",
       "      <td>/life-insurance/comparison/</td>\n",
       "      <td>Email</td>\n",
       "      <td>life</td>\n",
       "      <td>14:09:02</td>\n",
       "      <td>2020-10-02</td>\n",
       "      <td>3</td>\n",
       "    </tr>\n",
       "    <tr>\n",
       "      <th>19</th>\n",
       "      <td>e92e0324865f41ae85c1feda74f566f6</td>\n",
       "      <td>Mozilla/5.0 (Linux; Android 8.1.0; LML211BL) A...</td>\n",
       "      <td>/life-insurance/comparison/</td>\n",
       "      <td>Email</td>\n",
       "      <td>life</td>\n",
       "      <td>14:09:08</td>\n",
       "      <td>2020-10-02</td>\n",
       "      <td>3</td>\n",
       "    </tr>\n",
       "  </tbody>\n",
       "</table>\n",
       "</div>"
      ],
      "text/plain": [
       "                   user_analytics_id  \\\n",
       "0   e92e0324865f41ae85c1feda74f566f6   \n",
       "1   e92e0324865f41ae85c1feda74f566f6   \n",
       "2   e92e0324865f41ae85c1feda74f566f6   \n",
       "3   e92e0324865f41ae85c1feda74f566f6   \n",
       "4   e92e0324865f41ae85c1feda74f566f6   \n",
       "5   e92e0324865f41ae85c1feda74f566f6   \n",
       "6   e92e0324865f41ae85c1feda74f566f6   \n",
       "7   e92e0324865f41ae85c1feda74f566f6   \n",
       "8   e92e0324865f41ae85c1feda74f566f6   \n",
       "9   e92e0324865f41ae85c1feda74f566f6   \n",
       "10  e92e0324865f41ae85c1feda74f566f6   \n",
       "11  e92e0324865f41ae85c1feda74f566f6   \n",
       "12  e92e0324865f41ae85c1feda74f566f6   \n",
       "13  e92e0324865f41ae85c1feda74f566f6   \n",
       "14  e92e0324865f41ae85c1feda74f566f6   \n",
       "15  e92e0324865f41ae85c1feda74f566f6   \n",
       "16  e92e0324865f41ae85c1feda74f566f6   \n",
       "17  e92e0324865f41ae85c1feda74f566f6   \n",
       "18  e92e0324865f41ae85c1feda74f566f6   \n",
       "19  e92e0324865f41ae85c1feda74f566f6   \n",
       "\n",
       "                                           user_agent  \\\n",
       "0   Mozilla/5.0 (Linux; Android 8.1.0; LML211BL) A...   \n",
       "1   Mozilla/5.0 (Linux; Android 8.1.0; LML211BL) A...   \n",
       "2   Mozilla/5.0 (Linux; Android 8.1.0; LML211BL) A...   \n",
       "3   Mozilla/5.0 (Linux; Android 8.1.0; LML211BL) A...   \n",
       "4   Mozilla/5.0 (Linux; Android 8.1.0; LML211BL) A...   \n",
       "5   Mozilla/5.0 (Linux; Android 8.1.0; LML211BL) A...   \n",
       "6   Mozilla/5.0 (Linux; Android 8.1.0; LML211BL) A...   \n",
       "7   Mozilla/5.0 (Linux; Android 8.1.0; LML211BL) A...   \n",
       "8   Mozilla/5.0 (Linux; Android 8.1.0; LML211BL) A...   \n",
       "9   Mozilla/5.0 (Linux; Android 8.1.0; LML211BL) A...   \n",
       "10  Mozilla/5.0 (Linux; Android 8.1.0; LML211BL) A...   \n",
       "11  Mozilla/5.0 (Linux; Android 8.1.0; LML211BL) A...   \n",
       "12  Mozilla/5.0 (Linux; Android 8.1.0; LML211BL) A...   \n",
       "13  Mozilla/5.0 (Linux; Android 8.1.0; LML211BL) A...   \n",
       "14  Mozilla/5.0 (Linux; Android 8.1.0; LML211BL) A...   \n",
       "15  Mozilla/5.0 (Linux; Android 8.1.0; LML211BL) A...   \n",
       "16  Mozilla/5.0 (Linux; Android 8.1.0; LML211BL) A...   \n",
       "17  Mozilla/5.0 (Linux; Android 8.1.0; LML211BL) A...   \n",
       "18  Mozilla/5.0 (Linux; Android 8.1.0; LML211BL) A...   \n",
       "19  Mozilla/5.0 (Linux; Android 8.1.0; LML211BL) A...   \n",
       "\n",
       "                                      referred_to_url visitor_source  \\\n",
       "0                             /top10-life/index.html/   Partnerships   \n",
       "1   /autologin/BAh7CDoMdXNlcl9pZGkEp%252F8YAjoQcmV...          Email   \n",
       "2                         /life-insurance/comparison/          Email   \n",
       "3                         /life-insurance/comparison/          Email   \n",
       "4                         /life-insurance/comparison/          Email   \n",
       "5                         /life-insurance/comparison/          Email   \n",
       "6                         /life-insurance/comparison/          Email   \n",
       "7                         /life-insurance/comparison/          Email   \n",
       "8                         /life-insurance/comparison/          Email   \n",
       "9                         /life-insurance/comparison/          Email   \n",
       "10                        /life-insurance/comparison/          Email   \n",
       "11                        /life-insurance/comparison/          Email   \n",
       "12                        /life-insurance/comparison/          Email   \n",
       "13                        /life-insurance/comparison/          Email   \n",
       "14                        /life-insurance/comparison/          Email   \n",
       "15                        /life-insurance/comparison/          Email   \n",
       "16                        /life-insurance/comparison/          Email   \n",
       "17                        /life-insurance/comparison/          Email   \n",
       "18                        /life-insurance/comparison/          Email   \n",
       "19                        /life-insurance/comparison/          Email   \n",
       "\n",
       "   product_visited      Time        Date  session_id  \n",
       "0             life  11:36:17  2020-09-17           1  \n",
       "1             life  12:02:13  2020-10-02           2  \n",
       "2             life  12:04:49  2020-10-02           2  \n",
       "3             life  12:04:55  2020-10-02           2  \n",
       "4             life  12:05:11  2020-10-02           2  \n",
       "5             life  12:07:05  2020-10-02           2  \n",
       "6             life  12:14:47  2020-10-02           2  \n",
       "7             life  12:25:59  2020-10-02           2  \n",
       "8             life  12:37:30  2020-10-02           2  \n",
       "9             life  12:38:17  2020-10-02           2  \n",
       "10            life  12:38:36  2020-10-02           2  \n",
       "11            life  14:01:09  2020-10-02           3  \n",
       "12            life  14:01:35  2020-10-02           3  \n",
       "13            life  14:02:27  2020-10-02           3  \n",
       "14            life  14:04:11  2020-10-02           3  \n",
       "15            life  14:07:26  2020-10-02           3  \n",
       "16            life  14:08:12  2020-10-02           3  \n",
       "17            life  14:08:38  2020-10-02           3  \n",
       "18            life  14:09:02  2020-10-02           3  \n",
       "19            life  14:09:08  2020-10-02           3  "
      ]
     },
     "execution_count": 101,
     "metadata": {},
     "output_type": "execute_result"
    }
   ],
   "source": [
    "data = df[df['user_analytics_id']== 'e92e0324865f41ae85c1feda74f566f6']\n",
    "data[['user_analytics_id', 'user_agent', 'referred_to_url', 'visitor_source','product_visited', 'Time', 'Date','session_id']].reset_index(drop=True)[:20]"
   ]
  },
  {
   "cell_type": "markdown",
   "metadata": {},
   "source": [
    " "
   ]
  },
  {
   "cell_type": "markdown",
   "metadata": {},
   "source": [
    " "
   ]
  },
  {
   "cell_type": "markdown",
   "metadata": {},
   "source": [
    " "
   ]
  },
  {
   "cell_type": "markdown",
   "metadata": {},
   "source": [
    "---------"
   ]
  },
  {
   "cell_type": "markdown",
   "metadata": {},
   "source": [
    "## <span style=\"color:#4682B4\"> Example 2 </span>    \n",
    "    USER: 1d9a49b7cd79499da2eecbfcc932209e"
   ]
  },
  {
   "cell_type": "markdown",
   "metadata": {},
   "source": [
    "    Note: Here, Session 3: has different “referred_to_url” source"
   ]
  },
  {
   "cell_type": "code",
   "execution_count": 115,
   "metadata": {},
   "outputs": [
    {
     "data": {
      "text/html": [
       "<div>\n",
       "<style scoped>\n",
       "    .dataframe tbody tr th:only-of-type {\n",
       "        vertical-align: middle;\n",
       "    }\n",
       "\n",
       "    .dataframe tbody tr th {\n",
       "        vertical-align: top;\n",
       "    }\n",
       "\n",
       "    .dataframe thead th {\n",
       "        text-align: right;\n",
       "    }\n",
       "</style>\n",
       "<table border=\"1\" class=\"dataframe\">\n",
       "  <thead>\n",
       "    <tr style=\"text-align: right;\">\n",
       "      <th></th>\n",
       "      <th>user_analytics_id</th>\n",
       "      <th>user_agent</th>\n",
       "      <th>referred_to_url</th>\n",
       "      <th>visitor_source</th>\n",
       "      <th>product_visited</th>\n",
       "      <th>Time</th>\n",
       "      <th>Date</th>\n",
       "      <th>session_id</th>\n",
       "    </tr>\n",
       "  </thead>\n",
       "  <tbody>\n",
       "    <tr>\n",
       "      <th>0</th>\n",
       "      <td>1d9a49b7cd79499da2eecbfcc932209e</td>\n",
       "      <td>Mozilla/5.0 (iPhone; CPU iPhone OS 13_6_1 like...</td>\n",
       "      <td>/autologin/BAh7CDoMdXNlcl9pZGkE%252B%252B38ATo...</td>\n",
       "      <td>Email</td>\n",
       "      <td>life</td>\n",
       "      <td>20:07:27</td>\n",
       "      <td>2020-09-23</td>\n",
       "      <td>3</td>\n",
       "    </tr>\n",
       "    <tr>\n",
       "      <th>1</th>\n",
       "      <td>1d9a49b7cd79499da2eecbfcc932209e</td>\n",
       "      <td>Mozilla/5.0 (iPhone; CPU iPhone OS 13_6_1 like...</td>\n",
       "      <td>/life-insurance/comparison/</td>\n",
       "      <td>Email</td>\n",
       "      <td>life</td>\n",
       "      <td>20:07:42</td>\n",
       "      <td>2020-09-23</td>\n",
       "      <td>3</td>\n",
       "    </tr>\n",
       "    <tr>\n",
       "      <th>2</th>\n",
       "      <td>1d9a49b7cd79499da2eecbfcc932209e</td>\n",
       "      <td>Mozilla/5.0 (iPhone; CPU iPhone OS 13_6_1 like...</td>\n",
       "      <td>/life-insurance/comparison/</td>\n",
       "      <td>Email</td>\n",
       "      <td>life</td>\n",
       "      <td>20:07:45</td>\n",
       "      <td>2020-09-23</td>\n",
       "      <td>3</td>\n",
       "    </tr>\n",
       "    <tr>\n",
       "      <th>3</th>\n",
       "      <td>1d9a49b7cd79499da2eecbfcc932209e</td>\n",
       "      <td>Mozilla/5.0 (iPhone; CPU iPhone OS 13_6_1 like...</td>\n",
       "      <td>/life-insurance/comparison/</td>\n",
       "      <td>Email</td>\n",
       "      <td>life</td>\n",
       "      <td>20:07:48</td>\n",
       "      <td>2020-09-23</td>\n",
       "      <td>3</td>\n",
       "    </tr>\n",
       "    <tr>\n",
       "      <th>4</th>\n",
       "      <td>1d9a49b7cd79499da2eecbfcc932209e</td>\n",
       "      <td>Mozilla/5.0 (iPhone; CPU iPhone OS 13_6_1 like...</td>\n",
       "      <td>/life-insurance/comparison/</td>\n",
       "      <td>Email</td>\n",
       "      <td>life</td>\n",
       "      <td>20:08:28</td>\n",
       "      <td>2020-09-23</td>\n",
       "      <td>3</td>\n",
       "    </tr>\n",
       "  </tbody>\n",
       "</table>\n",
       "</div>"
      ],
      "text/plain": [
       "                  user_analytics_id  \\\n",
       "0  1d9a49b7cd79499da2eecbfcc932209e   \n",
       "1  1d9a49b7cd79499da2eecbfcc932209e   \n",
       "2  1d9a49b7cd79499da2eecbfcc932209e   \n",
       "3  1d9a49b7cd79499da2eecbfcc932209e   \n",
       "4  1d9a49b7cd79499da2eecbfcc932209e   \n",
       "\n",
       "                                          user_agent  \\\n",
       "0  Mozilla/5.0 (iPhone; CPU iPhone OS 13_6_1 like...   \n",
       "1  Mozilla/5.0 (iPhone; CPU iPhone OS 13_6_1 like...   \n",
       "2  Mozilla/5.0 (iPhone; CPU iPhone OS 13_6_1 like...   \n",
       "3  Mozilla/5.0 (iPhone; CPU iPhone OS 13_6_1 like...   \n",
       "4  Mozilla/5.0 (iPhone; CPU iPhone OS 13_6_1 like...   \n",
       "\n",
       "                                     referred_to_url visitor_source  \\\n",
       "0  /autologin/BAh7CDoMdXNlcl9pZGkE%252B%252B38ATo...          Email   \n",
       "1                        /life-insurance/comparison/          Email   \n",
       "2                        /life-insurance/comparison/          Email   \n",
       "3                        /life-insurance/comparison/          Email   \n",
       "4                        /life-insurance/comparison/          Email   \n",
       "\n",
       "  product_visited      Time        Date  session_id  \n",
       "0            life  20:07:27  2020-09-23           3  \n",
       "1            life  20:07:42  2020-09-23           3  \n",
       "2            life  20:07:45  2020-09-23           3  \n",
       "3            life  20:07:48  2020-09-23           3  \n",
       "4            life  20:08:28  2020-09-23           3  "
      ]
     },
     "execution_count": 115,
     "metadata": {},
     "output_type": "execute_result"
    }
   ],
   "source": [
    "data = df[df['user_analytics_id']== '1d9a49b7cd79499da2eecbfcc932209e']\n",
    "data[data['session_id']==3][['user_analytics_id', 'user_agent', 'referred_to_url', 'visitor_source','product_visited', 'Time', 'Date','session_id']].reset_index(drop=True)[0:5]"
   ]
  },
  {
   "cell_type": "markdown",
   "metadata": {},
   "source": [
    " "
   ]
  },
  {
   "cell_type": "markdown",
   "metadata": {},
   "source": [
    " "
   ]
  },
  {
   "cell_type": "markdown",
   "metadata": {},
   "source": [
    " "
   ]
  },
  {
   "cell_type": "markdown",
   "metadata": {},
   "source": [
    " "
   ]
  },
  {
   "cell_type": "markdown",
   "metadata": {},
   "source": [
    " "
   ]
  },
  {
   "cell_type": "markdown",
   "metadata": {},
   "source": [
    "-------"
   ]
  },
  {
   "cell_type": "markdown",
   "metadata": {},
   "source": [
    "## <span style=\"color:#4682B4\"> Example 3 </span>    \n",
    "    USER: 05b42d0620e1422486a5db58b5849db2\n",
    "      \n",
    "    There is hardly any difference between the two sessions"
   ]
  },
  {
   "cell_type": "code",
   "execution_count": 102,
   "metadata": {},
   "outputs": [
    {
     "data": {
      "text/plain": [
       "1100"
      ]
     },
     "execution_count": 102,
     "metadata": {},
     "output_type": "execute_result"
    }
   ],
   "source": [
    "data = df[df['user_analytics_id']== '05b42d0620e1422486a5db58b5849db2']\n",
    "data = data[data['session_id']==1].reset_index(drop=True)\n",
    "\n",
    "len(data)"
   ]
  },
  {
   "cell_type": "code",
   "execution_count": 106,
   "metadata": {},
   "outputs": [
    {
     "data": {
      "text/html": [
       "<div>\n",
       "<style scoped>\n",
       "    .dataframe tbody tr th:only-of-type {\n",
       "        vertical-align: middle;\n",
       "    }\n",
       "\n",
       "    .dataframe tbody tr th {\n",
       "        vertical-align: top;\n",
       "    }\n",
       "\n",
       "    .dataframe thead th {\n",
       "        text-align: right;\n",
       "    }\n",
       "</style>\n",
       "<table border=\"1\" class=\"dataframe\">\n",
       "  <thead>\n",
       "    <tr style=\"text-align: right;\">\n",
       "      <th></th>\n",
       "      <th>user_analytics_id</th>\n",
       "      <th>user_agent</th>\n",
       "      <th>referred_to_url</th>\n",
       "      <th>visitor_source</th>\n",
       "      <th>product_visited</th>\n",
       "      <th>Time</th>\n",
       "      <th>Date</th>\n",
       "      <th>session_id</th>\n",
       "    </tr>\n",
       "  </thead>\n",
       "  <tbody>\n",
       "    <tr>\n",
       "      <th>0</th>\n",
       "      <td>05b42d0620e1422486a5db58b5849db2</td>\n",
       "      <td>Mozilla/5.0 (Windows NT 10.0; Win64; x64) Appl...</td>\n",
       "      <td>/life-insurance/comparison/</td>\n",
       "      <td>Email</td>\n",
       "      <td>life</td>\n",
       "      <td>23:59:56</td>\n",
       "      <td>2020-10-03</td>\n",
       "      <td>1</td>\n",
       "    </tr>\n",
       "    <tr>\n",
       "      <th>1</th>\n",
       "      <td>05b42d0620e1422486a5db58b5849db2</td>\n",
       "      <td>Mozilla/5.0 (Windows NT 10.0; Win64; x64) Appl...</td>\n",
       "      <td>/life-insurance/comparison/</td>\n",
       "      <td>Email</td>\n",
       "      <td>life</td>\n",
       "      <td>00:00:08</td>\n",
       "      <td>2020-10-04</td>\n",
       "      <td>2</td>\n",
       "    </tr>\n",
       "  </tbody>\n",
       "</table>\n",
       "</div>"
      ],
      "text/plain": [
       "                  user_analytics_id  \\\n",
       "0  05b42d0620e1422486a5db58b5849db2   \n",
       "1  05b42d0620e1422486a5db58b5849db2   \n",
       "\n",
       "                                          user_agent  \\\n",
       "0  Mozilla/5.0 (Windows NT 10.0; Win64; x64) Appl...   \n",
       "1  Mozilla/5.0 (Windows NT 10.0; Win64; x64) Appl...   \n",
       "\n",
       "               referred_to_url visitor_source product_visited      Time  \\\n",
       "0  /life-insurance/comparison/          Email            life  23:59:56   \n",
       "1  /life-insurance/comparison/          Email            life  00:00:08   \n",
       "\n",
       "         Date  session_id  \n",
       "0  2020-10-03           1  \n",
       "1  2020-10-04           2  "
      ]
     },
     "execution_count": 106,
     "metadata": {},
     "output_type": "execute_result"
    }
   ],
   "source": [
    "df[df['user_analytics_id']== '05b42d0620e1422486a5db58b5849db2'][['user_analytics_id', 'user_agent', 'referred_to_url', 'visitor_source','product_visited', 'Time', 'Date','session_id']][1099:1101].reset_index(drop=True)"
   ]
  },
  {
   "cell_type": "markdown",
   "metadata": {},
   "source": [
    "    Extended over period of 1 day"
   ]
  },
  {
   "cell_type": "code",
   "execution_count": 246,
   "metadata": {},
   "outputs": [
    {
     "data": {
      "text/html": [
       "<div>\n",
       "<style scoped>\n",
       "    .dataframe tbody tr th:only-of-type {\n",
       "        vertical-align: middle;\n",
       "    }\n",
       "\n",
       "    .dataframe tbody tr th {\n",
       "        vertical-align: top;\n",
       "    }\n",
       "\n",
       "    .dataframe thead th {\n",
       "        text-align: right;\n",
       "    }\n",
       "</style>\n",
       "<table border=\"1\" class=\"dataframe\">\n",
       "  <thead>\n",
       "    <tr style=\"text-align: right;\">\n",
       "      <th></th>\n",
       "      <th>user_analytics_id</th>\n",
       "      <th>user_agent</th>\n",
       "      <th>referred_to_url</th>\n",
       "      <th>visitor_source</th>\n",
       "      <th>product_visited</th>\n",
       "      <th>Time</th>\n",
       "      <th>Date</th>\n",
       "      <th>session_id</th>\n",
       "    </tr>\n",
       "  </thead>\n",
       "  <tbody>\n",
       "    <tr>\n",
       "      <th>62363</th>\n",
       "      <td>05b42d0620e1422486a5db58b5849db2</td>\n",
       "      <td>Mozilla/5.0 (Windows NT 10.0; Win64; x64) Appl...</td>\n",
       "      <td>/life-insurance/comparison</td>\n",
       "      <td>Email</td>\n",
       "      <td>life</td>\n",
       "      <td>23:59:56</td>\n",
       "      <td>2020-10-03</td>\n",
       "      <td>1</td>\n",
       "    </tr>\n",
       "  </tbody>\n",
       "</table>\n",
       "</div>"
      ],
      "text/plain": [
       "                      user_analytics_id  \\\n",
       "62363  05b42d0620e1422486a5db58b5849db2   \n",
       "\n",
       "                                              user_agent  \\\n",
       "62363  Mozilla/5.0 (Windows NT 10.0; Win64; x64) Appl...   \n",
       "\n",
       "                  referred_to_url visitor_source product_visited      Time  \\\n",
       "62363  /life-insurance/comparison          Email            life  23:59:56   \n",
       "\n",
       "             Date  session_id  \n",
       "62363  2020-10-03           1  "
      ]
     },
     "execution_count": 246,
     "metadata": {},
     "output_type": "execute_result"
    }
   ],
   "source": [
    "df[df['user_analytics_id']== '05b42d0620e1422486a5db58b5849db2'][1099:1100][['user_analytics_id', 'user_agent', 'referred_to_url', 'visitor_source','product_visited', 'Time', 'Date','session_id']]"
   ]
  },
  {
   "cell_type": "code",
   "execution_count": 247,
   "metadata": {},
   "outputs": [
    {
     "data": {
      "text/html": [
       "<div>\n",
       "<style scoped>\n",
       "    .dataframe tbody tr th:only-of-type {\n",
       "        vertical-align: middle;\n",
       "    }\n",
       "\n",
       "    .dataframe tbody tr th {\n",
       "        vertical-align: top;\n",
       "    }\n",
       "\n",
       "    .dataframe thead th {\n",
       "        text-align: right;\n",
       "    }\n",
       "</style>\n",
       "<table border=\"1\" class=\"dataframe\">\n",
       "  <thead>\n",
       "    <tr style=\"text-align: right;\">\n",
       "      <th></th>\n",
       "      <th>user_analytics_id</th>\n",
       "      <th>user_agent</th>\n",
       "      <th>referred_to_url</th>\n",
       "      <th>visitor_source</th>\n",
       "      <th>product_visited</th>\n",
       "      <th>Time</th>\n",
       "      <th>Date</th>\n",
       "      <th>session_id</th>\n",
       "    </tr>\n",
       "  </thead>\n",
       "  <tbody>\n",
       "    <tr>\n",
       "      <th>62364</th>\n",
       "      <td>05b42d0620e1422486a5db58b5849db2</td>\n",
       "      <td>Mozilla/5.0 (Windows NT 10.0; Win64; x64) Appl...</td>\n",
       "      <td>/life-insurance/comparison</td>\n",
       "      <td>Email</td>\n",
       "      <td>life</td>\n",
       "      <td>00:00:08</td>\n",
       "      <td>2020-10-04</td>\n",
       "      <td>2</td>\n",
       "    </tr>\n",
       "  </tbody>\n",
       "</table>\n",
       "</div>"
      ],
      "text/plain": [
       "                      user_analytics_id  \\\n",
       "62364  05b42d0620e1422486a5db58b5849db2   \n",
       "\n",
       "                                              user_agent  \\\n",
       "62364  Mozilla/5.0 (Windows NT 10.0; Win64; x64) Appl...   \n",
       "\n",
       "                  referred_to_url visitor_source product_visited      Time  \\\n",
       "62364  /life-insurance/comparison          Email            life  00:00:08   \n",
       "\n",
       "             Date  session_id  \n",
       "62364  2020-10-04           2  "
      ]
     },
     "execution_count": 247,
     "metadata": {},
     "output_type": "execute_result"
    }
   ],
   "source": [
    "df[df['user_analytics_id']== '05b42d0620e1422486a5db58b5849db2'][1100:1101][['user_analytics_id', 'user_agent', 'referred_to_url', 'visitor_source','product_visited', 'Time', 'Date','session_id']]\n"
   ]
  },
  {
   "cell_type": "markdown",
   "metadata": {},
   "source": [
    " "
   ]
  },
  {
   "cell_type": "markdown",
   "metadata": {},
   "source": [
    " "
   ]
  },
  {
   "cell_type": "markdown",
   "metadata": {},
   "source": [
    " "
   ]
  },
  {
   "cell_type": "markdown",
   "metadata": {},
   "source": [
    "## <span style=\"color:#4682B4\"> Example 4 </span>    \n",
    "    USER: 05b42d0620e1422486a5db58b5849db2\n",
    "    \n",
    "    There are 1100 records in Session 1"
   ]
  },
  {
   "cell_type": "code",
   "execution_count": 126,
   "metadata": {},
   "outputs": [],
   "source": [
    "data = df[df['user_analytics_id']== '05b42d0620e1422486a5db58b5849db2']\n",
    "data = data[data['session_id']==1].reset_index(drop=True)"
   ]
  },
  {
   "cell_type": "code",
   "execution_count": 129,
   "metadata": {},
   "outputs": [
    {
     "data": {
      "text/html": [
       "<div>\n",
       "<style scoped>\n",
       "    .dataframe tbody tr th:only-of-type {\n",
       "        vertical-align: middle;\n",
       "    }\n",
       "\n",
       "    .dataframe tbody tr th {\n",
       "        vertical-align: top;\n",
       "    }\n",
       "\n",
       "    .dataframe thead th {\n",
       "        text-align: right;\n",
       "    }\n",
       "</style>\n",
       "<table border=\"1\" class=\"dataframe\">\n",
       "  <thead>\n",
       "    <tr style=\"text-align: right;\">\n",
       "      <th></th>\n",
       "      <th>user_analytics_id</th>\n",
       "      <th>user_agent</th>\n",
       "      <th>referred_to_url</th>\n",
       "      <th>visitor_source</th>\n",
       "      <th>product_visited</th>\n",
       "      <th>Time</th>\n",
       "      <th>Date</th>\n",
       "      <th>session_id</th>\n",
       "    </tr>\n",
       "  </thead>\n",
       "  <tbody>\n",
       "    <tr>\n",
       "      <th>0</th>\n",
       "      <td>05b42d0620e1422486a5db58b5849db2</td>\n",
       "      <td>Mozilla/5.0 (Windows NT 10.0; Win64; x64) Appl...</td>\n",
       "      <td>/life-insurance/comparison/</td>\n",
       "      <td>Email</td>\n",
       "      <td>life</td>\n",
       "      <td>21:29:05</td>\n",
       "      <td>2020-10-03</td>\n",
       "      <td>1</td>\n",
       "    </tr>\n",
       "  </tbody>\n",
       "</table>\n",
       "</div>"
      ],
      "text/plain": [
       "                  user_analytics_id  \\\n",
       "0  05b42d0620e1422486a5db58b5849db2   \n",
       "\n",
       "                                          user_agent  \\\n",
       "0  Mozilla/5.0 (Windows NT 10.0; Win64; x64) Appl...   \n",
       "\n",
       "               referred_to_url visitor_source product_visited      Time  \\\n",
       "0  /life-insurance/comparison/          Email            life  21:29:05   \n",
       "\n",
       "         Date  session_id  \n",
       "0  2020-10-03           1  "
      ]
     },
     "execution_count": 129,
     "metadata": {},
     "output_type": "execute_result"
    }
   ],
   "source": [
    "data[0:1][['user_analytics_id', 'user_agent', 'referred_to_url', 'visitor_source','product_visited', 'Time', 'Date','session_id']]\n"
   ]
  },
  {
   "cell_type": "code",
   "execution_count": 131,
   "metadata": {},
   "outputs": [
    {
     "data": {
      "text/html": [
       "<div>\n",
       "<style scoped>\n",
       "    .dataframe tbody tr th:only-of-type {\n",
       "        vertical-align: middle;\n",
       "    }\n",
       "\n",
       "    .dataframe tbody tr th {\n",
       "        vertical-align: top;\n",
       "    }\n",
       "\n",
       "    .dataframe thead th {\n",
       "        text-align: right;\n",
       "    }\n",
       "</style>\n",
       "<table border=\"1\" class=\"dataframe\">\n",
       "  <thead>\n",
       "    <tr style=\"text-align: right;\">\n",
       "      <th></th>\n",
       "      <th>user_analytics_id</th>\n",
       "      <th>user_agent</th>\n",
       "      <th>referred_to_url</th>\n",
       "      <th>visitor_source</th>\n",
       "      <th>product_visited</th>\n",
       "      <th>Time</th>\n",
       "      <th>Date</th>\n",
       "      <th>session_id</th>\n",
       "    </tr>\n",
       "  </thead>\n",
       "  <tbody>\n",
       "    <tr>\n",
       "      <th>1099</th>\n",
       "      <td>05b42d0620e1422486a5db58b5849db2</td>\n",
       "      <td>Mozilla/5.0 (Windows NT 10.0; Win64; x64) Appl...</td>\n",
       "      <td>/life-insurance/comparison/</td>\n",
       "      <td>Email</td>\n",
       "      <td>life</td>\n",
       "      <td>23:59:56</td>\n",
       "      <td>2020-10-03</td>\n",
       "      <td>1</td>\n",
       "    </tr>\n",
       "  </tbody>\n",
       "</table>\n",
       "</div>"
      ],
      "text/plain": [
       "                     user_analytics_id  \\\n",
       "1099  05b42d0620e1422486a5db58b5849db2   \n",
       "\n",
       "                                             user_agent  \\\n",
       "1099  Mozilla/5.0 (Windows NT 10.0; Win64; x64) Appl...   \n",
       "\n",
       "                  referred_to_url visitor_source product_visited      Time  \\\n",
       "1099  /life-insurance/comparison/          Email            life  23:59:56   \n",
       "\n",
       "            Date  session_id  \n",
       "1099  2020-10-03           1  "
      ]
     },
     "execution_count": 131,
     "metadata": {},
     "output_type": "execute_result"
    }
   ],
   "source": [
    "data[-1:][['user_analytics_id', 'user_agent', 'referred_to_url', 'visitor_source','product_visited', 'Time', 'Date','session_id']]"
   ]
  },
  {
   "cell_type": "markdown",
   "metadata": {},
   "source": [
    "-----"
   ]
  },
  {
   "cell_type": "markdown",
   "metadata": {},
   "source": [
    " "
   ]
  },
  {
   "cell_type": "markdown",
   "metadata": {},
   "source": [
    " "
   ]
  },
  {
   "cell_type": "markdown",
   "metadata": {},
   "source": [
    " "
   ]
  },
  {
   "cell_type": "code",
   "execution_count": null,
   "metadata": {},
   "outputs": [],
   "source": []
  },
  {
   "cell_type": "code",
   "execution_count": null,
   "metadata": {},
   "outputs": [],
   "source": []
  },
  {
   "cell_type": "code",
   "execution_count": null,
   "metadata": {},
   "outputs": [],
   "source": []
  },
  {
   "cell_type": "code",
   "execution_count": null,
   "metadata": {},
   "outputs": [],
   "source": []
  },
  {
   "cell_type": "code",
   "execution_count": null,
   "metadata": {},
   "outputs": [],
   "source": []
  },
  {
   "cell_type": "code",
   "execution_count": null,
   "metadata": {},
   "outputs": [],
   "source": []
  },
  {
   "cell_type": "code",
   "execution_count": null,
   "metadata": {},
   "outputs": [],
   "source": []
  },
  {
   "cell_type": "code",
   "execution_count": null,
   "metadata": {},
   "outputs": [],
   "source": []
  },
  {
   "cell_type": "code",
   "execution_count": null,
   "metadata": {},
   "outputs": [],
   "source": []
  },
  {
   "cell_type": "code",
   "execution_count": null,
   "metadata": {},
   "outputs": [],
   "source": []
  },
  {
   "cell_type": "code",
   "execution_count": null,
   "metadata": {},
   "outputs": [],
   "source": []
  },
  {
   "cell_type": "code",
   "execution_count": null,
   "metadata": {},
   "outputs": [],
   "source": []
  },
  {
   "cell_type": "code",
   "execution_count": null,
   "metadata": {},
   "outputs": [],
   "source": []
  },
  {
   "cell_type": "code",
   "execution_count": null,
   "metadata": {},
   "outputs": [],
   "source": []
  },
  {
   "cell_type": "markdown",
   "metadata": {},
   "source": [
    "---------"
   ]
  },
  {
   "cell_type": "markdown",
   "metadata": {},
   "source": [
    " "
   ]
  },
  {
   "cell_type": "markdown",
   "metadata": {},
   "source": [
    " "
   ]
  }
 ],
 "metadata": {
  "kernelspec": {
   "display_name": "gDL",
   "language": "python",
   "name": "gdl"
  },
  "language_info": {
   "codemirror_mode": {
    "name": "ipython",
    "version": 3
   },
   "file_extension": ".py",
   "mimetype": "text/x-python",
   "name": "python",
   "nbconvert_exporter": "python",
   "pygments_lexer": "ipython3",
   "version": "3.8.2"
  }
 },
 "nbformat": 4,
 "nbformat_minor": 4
}
